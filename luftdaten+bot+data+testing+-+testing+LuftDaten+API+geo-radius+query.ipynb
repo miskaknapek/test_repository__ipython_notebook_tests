{
 "cells": [
  {
   "cell_type": "code",
   "execution_count": 1,
   "metadata": {
    "collapsed": true
   },
   "outputs": [],
   "source": [
    "#prerequisites \n",
    "import json, requests\n",
    "\n",
    "import pandas as pd\n",
    "import numpy as np\n",
    "\n",
    "import matplotlib as mpl\n",
    "import matplotlib.pyplot as plt"
   ]
  },
  {
   "cell_type": "code",
   "execution_count": 2,
   "metadata": {
    "collapsed": true
   },
   "outputs": [],
   "source": [
    "#sensor ids \n",
    "sensorID_list_freiburg = [533,928,1210,1224,1264,1288,1615,1667,1685,1699,1939,2289,2384,2388,2392,2408,2410,2438,2452,2456,2546,2564,2602,2662,2712,2728,2734,3525,3527,4206,4299,5335,5559,6590,6642,6924,7124,7243,7324,7381,7408,7446,7665,7725,7793,7799,7967,8070,8189,8213,9280,9958,11406,11425,12257,12302,13870,13891]"
   ]
  },
  {
   "cell_type": "code",
   "execution_count": 3,
   "metadata": {},
   "outputs": [
    {
     "data": {
      "text/plain": [
       "'[533, 928, 1210, 1224, 1264, 1288, 1615, 1667, 1685, 1699, 1939, 2289, 2384, 2388, 2392, 2408, 2410, 2438, 2452, 2456, 2546, 2564, 2602, 2662, 2712, 2728, 2734, 3525, 3527, 4206, 4299, 5335, 5559, 6590, 6642, 6924, 7124, 7243, 7324, 7381, 7408, 7446, 7665, 7725, 7793, 7799, 7967, 8070, 8189, 8213, 9280, 9958, 11406, 11425, 12257, 12302, 13870, 13891]'"
      ]
     },
     "execution_count": 3,
     "metadata": {},
     "output_type": "execute_result"
    }
   ],
   "source": [
    "sensorID_list_freiburg.sort()\n",
    "str( sensorID_list_freiburg )"
   ]
  },
  {
   "cell_type": "code",
   "execution_count": 4,
   "metadata": {},
   "outputs": [
    {
     "data": {
      "text/plain": [
       "58"
      ]
     },
     "execution_count": 4,
     "metadata": {},
     "output_type": "execute_result"
    }
   ],
   "source": [
    "len( sensorID_list_freiburg )"
   ]
  },
  {
   "cell_type": "markdown",
   "metadata": {},
   "source": [
    "### Fetch Freiburg data via API - coordinate + radius filer fetched results… "
   ]
  },
  {
   "cell_type": "code",
   "execution_count": 5,
   "metadata": {
    "collapsed": true
   },
   "outputs": [],
   "source": [
    "url_for_geographic_radius_query = \"http://api.luftdaten.info/v1/filter/area=47.9955,7.88,10\""
   ]
  },
  {
   "cell_type": "code",
   "execution_count": 6,
   "metadata": {
    "collapsed": true
   },
   "outputs": [],
   "source": [
    "data_from_geographic_filter_query = json.loads( requests.get( url_for_geographic_radius_query).text )"
   ]
  },
  {
   "cell_type": "code",
   "execution_count": 7,
   "metadata": {},
   "outputs": [
    {
     "data": {
      "text/plain": [
       "204"
      ]
     },
     "execution_count": 7,
     "metadata": {},
     "output_type": "execute_result"
    }
   ],
   "source": [
    "len( data_from_geographic_filter_query )"
   ]
  },
  {
   "cell_type": "code",
   "execution_count": 8,
   "metadata": {},
   "outputs": [
    {
     "data": {
      "text/plain": [
       "{'id': 1401762047,\n",
       " 'location': {'altitude': '266.1',\n",
       "  'country': 'DE',\n",
       "  'id': 6191,\n",
       "  'latitude': '47.9860',\n",
       "  'longitude': '7.8360'},\n",
       " 'sampling_rate': None,\n",
       " 'sensor': {'id': 12258,\n",
       "  'pin': '7',\n",
       "  'sensor_type': {'id': 9, 'manufacturer': 'various', 'name': 'DHT22'}},\n",
       " 'sensordatavalues': [{'id': 3004291847,\n",
       "   'value': '21.50',\n",
       "   'value_type': 'temperature'},\n",
       "  {'id': 3004291848, 'value': '76.40', 'value_type': 'humidity'}],\n",
       " 'timestamp': '2018-06-16 07:10:52'}"
      ]
     },
     "execution_count": 8,
     "metadata": {},
     "output_type": "execute_result"
    }
   ],
   "source": [
    "# test print a sensor… \n",
    "data_from_geographic_filter_query[0]"
   ]
  },
  {
   "cell_type": "code",
   "execution_count": 9,
   "metadata": {},
   "outputs": [
    {
     "name": "stdout",
     "output_type": "stream",
     "text": [
      "\t - found humidity value of 76.40 of sensor type DHT22 location id = 6191\n",
      "\t - found humidity value of 99.90 of sensor type DHT22 location id = 988\n",
      "\t - found humidity value of 99.90 of sensor type DHT22 location id = 4029\n",
      "\t - found humidity value of 99.90 of sensor type DHT22 location id = 2121\n",
      "\t - found humidity value of 96.10 of sensor type DHT22 location id = 1778\n",
      "\t - found humidity value of 65.80 of sensor type DHT22 location id = 4148\n",
      "\t - found humidity value of 94.60 of sensor type DHT22 location id = 4755\n",
      "\t - found humidity value of 64.60 of sensor type DHT22 location id = 3944\n",
      "\t - found humidity value of 99.90 of sensor type DHT22 location id = 5019\n",
      "\t - found humidity value of 58.97 of sensor type BME280 location id = 7241\n",
      "\t - found humidity value of 1.00 of sensor type DHT22 location id = 3746\n",
      "\t - found humidity value of 69.20 of sensor type DHT22 location id = 832\n",
      "\t - found humidity value of 73.80 of sensor type DHT22 location id = 1777\n",
      "\t - found humidity value of 67.10 of sensor type DHT22 location id = 5769\n",
      "\t - found humidity value of 99.90 of sensor type DHT22 location id = 1292\n",
      "\t - found humidity value of 65.50 of sensor type DHT22 location id = 3824\n",
      "\t - found humidity value of 74.20 of sensor type DHT22 location id = 6214\n",
      "\t - found humidity value of 65.00 of sensor type DHT22 location id = 5766\n",
      "\t - found humidity value of 51.10 of sensor type DHT22 location id = 3604\n",
      "\t - found humidity value of 64.30 of sensor type DHT22 location id = 4136\n",
      "\t - found humidity value of 91.20 of sensor type DHT22 location id = 3906\n",
      "\t - found humidity value of 91.70 of sensor type DHT22 location id = 3732\n",
      "\t - found humidity value of 36.20 of sensor type DHT22 location id = 1230\n",
      "\t - found humidity value of 99.90 of sensor type DHT22 location id = 1003\n",
      "\t - found humidity value of 29.63 of sensor type BME280 location id = 1003\n",
      "\t - found humidity value of 99.90 of sensor type DHT22 location id = 3941\n",
      "\t - found humidity value of 99.90 of sensor type DHT22 location id = 840\n",
      "\t - found humidity value of 72.90 of sensor type DHT22 location id = 1372\n",
      "\t - found humidity value of 57.20 of sensor type DHT22 location id = 2163\n",
      "\t - found humidity value of 77.30 of sensor type DHT22 location id = 847\n",
      "\t - found humidity value of 62.50 of sensor type DHT22 location id = 7278\n",
      "\t - found humidity value of 70.90 of sensor type DHT22 location id = 623\n",
      "\t - found humidity value of 42.72 of sensor type BME280 location id = 4679\n",
      "\t - found humidity value of 69.80 of sensor type DHT22 location id = 801\n",
      "\t - found humidity value of 99.90 of sensor type DHT22 location id = 2117\n",
      "\t - found humidity value of 99.90 of sensor type DHT22 location id = 3703\n",
      "\t - found humidity value of 99.90 of sensor type DHT22 location id = 4078\n",
      "\t - found humidity value of 64.90 of sensor type DHT22 location id = 1283\n",
      "\t - found humidity value of 99.10 of sensor type DHT22 location id = 3765\n",
      "\t - found humidity value of 89.20 of sensor type DHT22 location id = 3502\n",
      "\t - found humidity value of 99.90 of sensor type DHT22 location id = 602\n",
      "\t - found humidity value of 99.90 of sensor type DHT22 location id = 1238\n",
      "\t - found humidity value of 91.60 of sensor type DHT22 location id = 1311\n",
      "\t - found humidity value of 67.80 of sensor type DHT22 location id = 7005\n",
      "\t - found humidity value of 50.10 of sensor type DHT22 location id = 2690\n",
      "\t - found humidity value of 59.57 of sensor type BME280 location id = 5759\n",
      "\t - found humidity value of 99.90 of sensor type DHT22 location id = 988\n",
      "\t - found humidity value of 76.40 of sensor type DHT22 location id = 6191\n",
      "\t - found humidity value of 99.90 of sensor type DHT22 location id = 4029\n",
      "\t - found humidity value of 99.90 of sensor type DHT22 location id = 2121\n",
      "\t - found humidity value of 95.50 of sensor type DHT22 location id = 1778\n",
      "\t - found humidity value of 66.70 of sensor type DHT22 location id = 4148\n",
      "\t - found humidity value of 94.50 of sensor type DHT22 location id = 4755\n",
      "\t - found humidity value of 59.90 of sensor type DHT22 location id = 3944\n",
      "\t - found humidity value of 99.90 of sensor type DHT22 location id = 5019\n",
      "\t - found humidity value of 58.82 of sensor type BME280 location id = 7241\n",
      "\t - found humidity value of 1.00 of sensor type DHT22 location id = 3746\n",
      "\t - found humidity value of 68.10 of sensor type DHT22 location id = 832\n",
      "\t - found humidity value of 73.10 of sensor type DHT22 location id = 1777\n",
      "\t - found humidity value of 67.10 of sensor type DHT22 location id = 5769\n",
      "\t - found humidity value of 99.90 of sensor type DHT22 location id = 1292\n",
      "\t - found humidity value of 66.30 of sensor type DHT22 location id = 3824\n",
      "\t - found humidity value of 73.10 of sensor type DHT22 location id = 6214\n",
      "\t - found humidity value of 50.00 of sensor type DHT22 location id = 3604\n",
      "\t - found humidity value of 65.40 of sensor type DHT22 location id = 4136\n",
      "\t - found humidity value of 90.90 of sensor type DHT22 location id = 3906\n",
      "\t - found humidity value of 91.40 of sensor type DHT22 location id = 3732\n",
      "\t - found humidity value of 36.40 of sensor type DHT22 location id = 1230\n",
      "\t - found humidity value of 99.80 of sensor type DHT22 location id = 1003\n",
      "\t - found humidity value of 29.30 of sensor type BME280 location id = 1003\n",
      "\t - found humidity value of 99.90 of sensor type DHT22 location id = 3941\n",
      "\t - found humidity value of 99.90 of sensor type DHT22 location id = 840\n",
      "\t - found humidity value of 43.06 of sensor type BME280 location id = 4679\n",
      "\t - found humidity value of 56.90 of sensor type DHT22 location id = 2163\n",
      "\t - found humidity value of 73.20 of sensor type DHT22 location id = 1372\n",
      "\t - found humidity value of 77.90 of sensor type DHT22 location id = 847\n",
      "\t - found humidity value of 63.60 of sensor type DHT22 location id = 7278\n",
      "\t - found humidity value of 69.90 of sensor type DHT22 location id = 623\n",
      "\t - found humidity value of 71.00 of sensor type DHT22 location id = 801\n",
      "\t - found humidity value of 99.90 of sensor type DHT22 location id = 2117\n",
      "\t - found humidity value of 99.90 of sensor type DHT22 location id = 4078\n",
      "\t - found humidity value of 99.90 of sensor type DHT22 location id = 3703\n",
      "\t - found humidity value of 63.90 of sensor type DHT22 location id = 1283\n",
      "\t - found humidity value of 99.00 of sensor type DHT22 location id = 3765\n",
      "\t - found humidity value of 89.50 of sensor type DHT22 location id = 3502\n",
      "\t - found humidity value of 99.90 of sensor type DHT22 location id = 602\n",
      "\t - found humidity value of 99.90 of sensor type DHT22 location id = 1238\n",
      "\t - found humidity value of 92.50 of sensor type DHT22 location id = 1311\n",
      "\t - found humidity value of 68.20 of sensor type DHT22 location id = 7005\n",
      "\t - found humidity value of 48.00 of sensor type DHT22 location id = 2690\n",
      "\t - found humidity value of 59.66 of sensor type BME280 location id = 5759\n",
      "\t - found humidity value of 99.90 of sensor type DHT22 location id = 988\n",
      "\t - found humidity value of 99.90 of sensor type DHT22 location id = 4029\n",
      "\t - found humidity value of 99.90 of sensor type DHT22 location id = 2121\n",
      "\t - found humidity value of 76.30 of sensor type DHT22 location id = 6191\n",
      "\t - found humidity value of 96.30 of sensor type DHT22 location id = 1778\n",
      "-- found 89/9 matching dht22/bme280 sensors\n"
     ]
    }
   ],
   "source": [
    "# Save specific values, like sensorIDs, different humidity sensor values \n",
    "# for counting matching sensors \n",
    "found_counter = 0\n",
    "\n",
    "geographic_search_humidity_sensor__dht22__sensor_value = [0];\n",
    "geographic_search_humidity_sensor__bme280__sensor_value = [0];\n",
    "geographic_search__PM_sensor__sensorIDs  = [] \n",
    "\n",
    "# loop and find \n",
    "for sensor in data_from_geographic_filter_query:\n",
    "    # filter only PM sensors ( made by Nova Fitness )\n",
    "    if sensor['sensor']['sensor_type']['manufacturer'] == \"Nova Fitness\":   \n",
    "        geographic_search__PM_sensor__sensorIDs.append( sensor['sensor']['id'] )\n",
    "    # filter to only work with NON-PM sensors ( ie sensors NOT made by Nova Fitness ) \n",
    "    if sensor['sensor']['sensor_type']['manufacturer'] != \"Nova Fitness\":            \n",
    "        for sensor_value in sensor['sensordatavalues']:\n",
    "            # filter to only work with humidity values \n",
    "            if sensor_value['value_type'] == 'humidity':\n",
    "                print(\"\\t - found humidity value of \"+str(sensor_value['value'])+\" of sensor type \"+sensor['sensor']['sensor_type']['name']+\" location id = \"+str( sensor['location']['id']) )\n",
    "                # separate the different kinds of humidity sensors \n",
    "                if sensor['sensor']['sensor_type']['name'] == \"DHT22\":\n",
    "                            geographic_search_humidity_sensor__dht22__sensor_value.append( float( sensor_value['value'] ) )\n",
    "                if sensor['sensor']['sensor_type']['name'] == \"BME280\":\n",
    "                            geographic_search_humidity_sensor__bme280__sensor_value.append( float( sensor_value['value'] ) )\n",
    "    \n",
    "          \n",
    "        \n",
    "# summarise after looop : \n",
    "print(\"-- found \"+str( len( geographic_search_humidity_sensor__dht22__sensor_value))+\"/\"+str( len( geographic_search_humidity_sensor__bme280__sensor_value))+\" matching dht22/bme280 sensors\")"
   ]
  },
  {
   "cell_type": "markdown",
   "metadata": {
    "collapsed": true
   },
   "source": [
    "### Checking what the retrieved data looks like"
   ]
  },
  {
   "cell_type": "code",
   "execution_count": 10,
   "metadata": {},
   "outputs": [
    {
     "data": {
      "text/plain": [
       "{'id': 1401762047,\n",
       " 'location': {'altitude': '266.1',\n",
       "  'country': 'DE',\n",
       "  'id': 6191,\n",
       "  'latitude': '47.9860',\n",
       "  'longitude': '7.8360'},\n",
       " 'sampling_rate': None,\n",
       " 'sensor': {'id': 12258,\n",
       "  'pin': '7',\n",
       "  'sensor_type': {'id': 9, 'manufacturer': 'various', 'name': 'DHT22'}},\n",
       " 'sensordatavalues': [{'id': 3004291847,\n",
       "   'value': '21.50',\n",
       "   'value_type': 'temperature'},\n",
       "  {'id': 3004291848, 'value': '76.40', 'value_type': 'humidity'}],\n",
       " 'timestamp': '2018-06-16 07:10:52'}"
      ]
     },
     "execution_count": 10,
     "metadata": {},
     "output_type": "execute_result"
    }
   ],
   "source": [
    "data_from_geographic_filter_query[0]"
   ]
  },
  {
   "cell_type": "code",
   "execution_count": 11,
   "metadata": {},
   "outputs": [
    {
     "data": {
      "text/plain": [
       "6191"
      ]
     },
     "execution_count": 11,
     "metadata": {},
     "output_type": "execute_result"
    }
   ],
   "source": [
    "# check how to find the location ID \n",
    "data_from_geographic_filter_query[0]['location']['id']"
   ]
  },
  {
   "cell_type": "code",
   "execution_count": 12,
   "metadata": {},
   "outputs": [
    {
     "data": {
      "text/plain": [
       "'[1224, 1224, 1225, 1225, 1264, 1264, 1265, 1265, 1615, 1615, 1616, 1616, 1667, 1667, 1668, 1668, 1685, 1685, 1686, 1686, 1699, 1699, 1700, 1700, 1975, 1975, 1975, 1976, 1976, 1976, 2001, 2001, 2002, 2002, 2289, 2289, 2438, 2438, 2439, 2439, 2452, 2452, 2453, 2453, 2456, 2456, 2466, 2466, 2546, 2546, 2547, 2547, 2564, 2564, 2565, 2565, 2602, 2602, 2603, 2603, 2712, 2712, 2728, 2728, 2729, 2729, 3525, 3525, 3526, 3526, 3527, 3527, 3527, 3528, 3528, 3528, 4206, 4206, 4207, 4207, 4214, 4214, 4214, 4215, 4215, 4215, 4299, 4299, 4300, 4300, 4742, 4742, 4742, 5335, 5335, 5336, 5336, 5595, 5595, 6924, 6924, 6925, 6925, 7124, 7124, 7125, 7125, 7243, 7243, 7304, 7304, 7305, 7305, 7324, 7324, 7325, 7325, 7381, 7381, 7382, 7382, 7408, 7408, 7409, 7409, 7446, 7446, 7447, 7447, 7565, 7565, 7566, 7566, 7725, 7725, 7726, 7726, 7793, 7793, 7794, 7794, 7799, 7799, 7800, 7800, 7967, 7967, 7967, 7968, 7968, 7968, 8070, 8070, 8071, 8071, 8189, 8189, 8190, 8190, 8213, 8213, 8214, 8214, 9280, 9280, 9281, 9281, 9432, 9432, 9433, 9433, 9958, 9958, 9959, 9959, 11406, 11406, 11407, 11407, 11418, 11419, 11425, 11425, 11426, 11426, 12257, 12257, 12258, 12258, 12258, 12302, 12302, 12303, 12303, 13870, 13870, 13871, 13871, 14131, 14131, 14314, 14314, 14315, 14315]'"
      ]
     },
     "execution_count": 12,
     "metadata": {},
     "output_type": "execute_result"
    }
   ],
   "source": [
    "# fetch the locationIDs of the geographic query\n",
    "sensor_ids_from__data_from_geographic_filter_query = []\n",
    "\n",
    "for sensor in data_from_geographic_filter_query:\n",
    "    sensor_ids_from__data_from_geographic_filter_query.append( sensor['sensor']['id'] )\n",
    "\n",
    "# sort and print the numbers \n",
    "sensor_ids_from__data_from_geographic_filter_query.sort()\n",
    "str( sensor_ids_from__data_from_geographic_filter_query ) "
   ]
  },
  {
   "cell_type": "code",
   "execution_count": 13,
   "metadata": {},
   "outputs": [
    {
     "data": {
      "text/plain": [
       "'[1224, 1225, 1264, 1265, 1615, 1616, 1667, 1668, 1685, 1686, 1699, 1700, 1975, 1976, 2001, 2002, 2289, 2438, 2439, 2452, 2453, 2456, 2466, 2546, 2547, 2564, 2565, 2602, 2603, 2712, 2728, 2729, 3525, 3526, 3527, 3528, 4206, 4207, 4214, 4215, 4299, 4300, 4742, 5335, 5336, 5595, 6924, 6925, 7124, 7125, 7243, 7304, 7305, 7324, 7325, 7381, 7382, 7408, 7409, 7446, 7447, 7565, 7566, 7725, 7726, 7793, 7794, 7799, 7800, 7967, 7968, 8070, 8071, 8189, 8190, 8213, 8214, 9280, 9281, 9432, 9433, 9958, 9959, 11406, 11407, 11418, 11419, 11425, 11426, 12257, 12258, 12302, 12303, 13870, 13871, 14131, 14314, 14315]'"
      ]
     },
     "execution_count": 13,
     "metadata": {},
     "output_type": "execute_result"
    }
   ],
   "source": [
    "# deduplicate the above array\n",
    "\n",
    "# turn to pandas :) \n",
    "sensor_ids_from__data_from_geographic_filter_query = pd.Series( sensor_ids_from__data_from_geographic_filter_query )\n",
    "sensor_ids_from__data_from_geographic_filter_query = list( sensor_ids_from__data_from_geographic_filter_query.drop_duplicates() ) \n",
    "\n",
    "# print deduplicated sensor location IDs \n",
    "str( sensor_ids_from__data_from_geographic_filter_query ) "
   ]
  },
  {
   "cell_type": "code",
   "execution_count": 14,
   "metadata": {},
   "outputs": [
    {
     "data": {
      "text/plain": [
       "False"
      ]
     },
     "execution_count": 14,
     "metadata": {},
     "output_type": "execute_result"
    }
   ],
   "source": [
    "# testing functionality to check whether a specific locationID is in the list of locationIDs from the geographic search\n",
    "3604 in sensorID_list_freiburg"
   ]
  },
  {
   "cell_type": "markdown",
   "metadata": {},
   "source": [
    "### Find which locationIDs are the same in the geographic Freiburg seach and the manually entered list of sensors in Freiburg"
   ]
  },
  {
   "cell_type": "code",
   "execution_count": 15,
   "metadata": {
    "collapsed": true
   },
   "outputs": [],
   "source": [
    "### NOTE NOTE NOTE : OOOOOPS - I might be comparing locationIDs with sensorIDs… no wonder there's no overlap… "
   ]
  },
  {
   "cell_type": "code",
   "execution_count": 16,
   "metadata": {
    "collapsed": true
   },
   "outputs": [],
   "source": [
    "freiburg_sensor_data_amongst_geographic_sensor_data_search = []"
   ]
  },
  {
   "cell_type": "code",
   "execution_count": 18,
   "metadata": {},
   "outputs": [],
   "source": [
    "for sensorID_from_geographic_search in sensor_ids_from__data_from_geographic_filter_query:\n",
    "    #if sensor_data_item['location']['id'] in sensorID_list_freiburg:\n",
    "    if sensorID_from_geographic_search in sensorID_list_freiburg:\n",
    "        freiburg_sensor_data_amongst_geographic_sensor_data_search.append( sensorID_from_geographic_search )"
   ]
  },
  {
   "cell_type": "code",
   "execution_count": 19,
   "metadata": {},
   "outputs": [],
   "source": [
    "overlapping_sensorIDs_btw_manually_entered_list_of_Freiburg_sensorIDs_and_sensorIDs_from_geographic_search_API_query = len( freiburg_sensor_data_amongst_geographic_sensor_data_search )"
   ]
  },
  {
   "cell_type": "code",
   "execution_count": 38,
   "metadata": {},
   "outputs": [
    {
     "name": "stdout",
     "output_type": "stream",
     "text": [
      " -- overlapping sensor ids : |41| \n",
      "\t - manually entered freiburg sensor IDS / sensor IDS in geographic query 58/98\n"
     ]
    }
   ],
   "source": [
    "print(\" -- overlapping sensor ids : |\"+str(overlapping_sensorIDs_btw_manually_entered_list_of_Freiburg_sensorIDs_and_sensorIDs_from_geographic_search_API_query)+\"| \\n\\t - manually entered freiburg sensor IDS / sensor IDS in geographic query \"+str( len(sensorID_list_freiburg) )+\"/\"+str( len( sensor_ids_from__data_from_geographic_filter_query )) )"
   ]
  },
  {
   "cell_type": "markdown",
   "metadata": {
    "collapsed": true
   },
   "source": [
    "### Fetch Full data - via the \"http://api.luftdaten.info/static/v1/data.json \" api\n",
    "### … of the 'manually entered' list of sensors in Freiburg "
   ]
  },
  {
   "cell_type": "code",
   "execution_count": 21,
   "metadata": {
    "collapsed": true
   },
   "outputs": [],
   "source": [
    "data_from_data_json_api_call = json.loads(requests.get( \"http://api.luftdaten.info/static/v1/data.json\").text )"
   ]
  },
  {
   "cell_type": "code",
   "execution_count": 22,
   "metadata": {},
   "outputs": [
    {
     "data": {
      "text/plain": [
       "20216"
      ]
     },
     "execution_count": 22,
     "metadata": {},
     "output_type": "execute_result"
    }
   ],
   "source": [
    "len( data_from_data_json_api_call )"
   ]
  },
  {
   "cell_type": "code",
   "execution_count": 23,
   "metadata": {},
   "outputs": [
    {
     "data": {
      "text/plain": [
       "{'id': 1401762039,\n",
       " 'location': {'altitude': '149.3',\n",
       "  'country': 'DE',\n",
       "  'id': 2266,\n",
       "  'latitude': '51.7280',\n",
       "  'longitude': '8.7940'},\n",
       " 'sampling_rate': None,\n",
       " 'sensor': {'id': 4506,\n",
       "  'pin': '1',\n",
       "  'sensor_type': {'id': 14, 'manufacturer': 'Nova Fitness', 'name': 'SDS011'}},\n",
       " 'sensordatavalues': [{'id': 3004291831, 'value': '1.70', 'value_type': 'P1'},\n",
       "  {'id': 3004291832, 'value': '1.13', 'value_type': 'P2'}],\n",
       " 'timestamp': '2018-06-16 07:10:52'}"
      ]
     },
     "execution_count": 23,
     "metadata": {},
     "output_type": "execute_result"
    }
   ],
   "source": [
    "data_from_data_json_api_call[0]"
   ]
  },
  {
   "cell_type": "markdown",
   "metadata": {},
   "source": [
    "#### Extract fuller data from data.json data… for the Freiburg location id list ids"
   ]
  },
  {
   "cell_type": "code",
   "execution_count": 24,
   "metadata": {
    "collapsed": true
   },
   "outputs": [],
   "source": [
    "# store found entries with 'correct' location_ids here ( they could be all manner of sensors )\n",
    "fuller_data_for_freiburg_locs_from_data_json_api = []\n",
    "\n",
    "# store matching non-particle matter entries.\n",
    "freiburg_sensors_non_particle_matter_entries = []\n",
    "\n",
    "# all entries in freiburg\n",
    "freiburg_sensors__all_entries = []"
   ]
  },
  {
   "cell_type": "code",
   "execution_count": 25,
   "metadata": {
    "collapsed": true
   },
   "outputs": [],
   "source": [
    "for entry in data_from_data_json_api_call:\n",
    "    curr_loc_id = entry['location']['id']\n",
    "    if curr_loc_id in sensorID_list_freiburg:\n",
    "        fuller_data_for_freiburg_locs_from_data_json_api.append( curr_loc_id )\n",
    "        \n",
    "        # make list of all freiburg sensor list data\n",
    "        freiburg_sensors__all_entries.append( entry )\n",
    "        \n",
    "        # check and note the non-Particle Matter entries\n",
    "        if entry['sensor']['sensor_type']['manufacturer'] != \"Nova Fitness\":\n",
    "            freiburg_sensors_non_particle_matter_entries.append( entry )"
   ]
  },
  {
   "cell_type": "code",
   "execution_count": 26,
   "metadata": {},
   "outputs": [
    {
     "name": "stdout",
     "output_type": "stream",
     "text": [
      "Freiburg entries : 83\n",
      "Non-particle matter sensors in Freiburg : 35\n"
     ]
    }
   ],
   "source": [
    "print( \"Freiburg entries : \"+str( len( fuller_data_for_freiburg_locs_from_data_json_api ) ) )\n",
    "print( \"Non-particle matter sensors in Freiburg : \"+str( len( freiburg_sensors_non_particle_matter_entries ) )  )"
   ]
  },
  {
   "cell_type": "code",
   "execution_count": 27,
   "metadata": {},
   "outputs": [
    {
     "data": {
      "text/plain": [
       "[{'id': 1401762039,\n",
       "  'location': {'altitude': '149.3',\n",
       "   'country': 'DE',\n",
       "   'id': 2266,\n",
       "   'latitude': '51.7280',\n",
       "   'longitude': '8.7940'},\n",
       "  'sampling_rate': None,\n",
       "  'sensor': {'id': 4506,\n",
       "   'pin': '1',\n",
       "   'sensor_type': {'id': 14,\n",
       "    'manufacturer': 'Nova Fitness',\n",
       "    'name': 'SDS011'}},\n",
       "  'sensordatavalues': [{'id': 3004291831, 'value': '1.70', 'value_type': 'P1'},\n",
       "   {'id': 3004291832, 'value': '1.13', 'value_type': 'P2'}],\n",
       "  'timestamp': '2018-06-16 07:10:52'},\n",
       " {'id': 1401762040,\n",
       "  'location': {'altitude': '48.4',\n",
       "   'country': 'DE',\n",
       "   'id': 2878,\n",
       "   'latitude': '52.4660',\n",
       "   'longitude': '13.3040'},\n",
       "  'sampling_rate': None,\n",
       "  'sensor': {'id': 5706,\n",
       "   'pin': '1',\n",
       "   'sensor_type': {'id': 14,\n",
       "    'manufacturer': 'Nova Fitness',\n",
       "    'name': 'SDS011'}},\n",
       "  'sensordatavalues': [{'id': 3004291833, 'value': '8.73', 'value_type': 'P1'},\n",
       "   {'id': 3004291834, 'value': '6.83', 'value_type': 'P2'}],\n",
       "  'timestamp': '2018-06-16 07:10:52'},\n",
       " {'id': 1401762041,\n",
       "  'location': {'altitude': '542.8',\n",
       "   'country': 'BG',\n",
       "   'id': 5087,\n",
       "   'latitude': '42.6620',\n",
       "   'longitude': '23.4660'},\n",
       "  'sampling_rate': None,\n",
       "  'sensor': {'id': 10096,\n",
       "   'pin': '1',\n",
       "   'sensor_type': {'id': 14,\n",
       "    'manufacturer': 'Nova Fitness',\n",
       "    'name': 'SDS011'}},\n",
       "  'sensordatavalues': [{'id': 3004291835, 'value': '1.10', 'value_type': 'P1'},\n",
       "   {'id': 3004291836, 'value': '0.37', 'value_type': 'P2'}],\n",
       "  'timestamp': '2018-06-16 07:10:52'},\n",
       " {'id': 1401762042,\n",
       "  'location': {'altitude': '191.9',\n",
       "   'country': 'DE',\n",
       "   'id': 2617,\n",
       "   'latitude': '51.0060',\n",
       "   'longitude': '12.4360'},\n",
       "  'sampling_rate': None,\n",
       "  'sensor': {'id': 5195,\n",
       "   'pin': '1',\n",
       "   'sensor_type': {'id': 14,\n",
       "    'manufacturer': 'Nova Fitness',\n",
       "    'name': 'SDS011'}},\n",
       "  'sensordatavalues': [{'id': 3004291837,\n",
       "    'value': '29.97',\n",
       "    'value_type': 'P1'},\n",
       "   {'id': 3004291838, 'value': '19.87', 'value_type': 'P2'}],\n",
       "  'timestamp': '2018-06-16 07:10:52'},\n",
       " {'id': 1401762043,\n",
       "  'location': {'altitude': '74.3',\n",
       "   'country': 'DE',\n",
       "   'id': 5326,\n",
       "   'latitude': '51.5220',\n",
       "   'longitude': '7.3880'},\n",
       "  'sampling_rate': None,\n",
       "  'sensor': {'id': 10555,\n",
       "   'pin': '7',\n",
       "   'sensor_type': {'id': 9, 'manufacturer': 'various', 'name': 'DHT22'}},\n",
       "  'sensordatavalues': [{'id': 3004291839,\n",
       "    'value': '21.20',\n",
       "    'value_type': 'temperature'},\n",
       "   {'id': 3004291840, 'value': '60.00', 'value_type': 'humidity'}],\n",
       "  'timestamp': '2018-06-16 07:10:52'},\n",
       " {'id': 1401762044,\n",
       "  'location': {'altitude': '475.9',\n",
       "   'country': 'DE',\n",
       "   'id': 1355,\n",
       "   'latitude': '48.8120',\n",
       "   'longitude': '10.1300'},\n",
       "  'sampling_rate': None,\n",
       "  'sensor': {'id': 2690,\n",
       "   'pin': '1',\n",
       "   'sensor_type': {'id': 14,\n",
       "    'manufacturer': 'Nova Fitness',\n",
       "    'name': 'SDS011'}},\n",
       "  'sensordatavalues': [{'id': 3004291841, 'value': '6.37', 'value_type': 'P1'},\n",
       "   {'id': 3004291844, 'value': '5.77', 'value_type': 'P2'}],\n",
       "  'timestamp': '2018-06-16 07:10:52'},\n",
       " {'id': 1401762045,\n",
       "  'location': {'altitude': '591.0',\n",
       "   'country': 'BG',\n",
       "   'id': 6669,\n",
       "   'latitude': '42.6780',\n",
       "   'longitude': '23.3320'},\n",
       "  'sampling_rate': None,\n",
       "  'sensor': {'id': 13208,\n",
       "   'pin': '1',\n",
       "   'sensor_type': {'id': 14,\n",
       "    'manufacturer': 'Nova Fitness',\n",
       "    'name': 'SDS011'}},\n",
       "  'sensordatavalues': [{'id': 3004291842,\n",
       "    'value': '19.37',\n",
       "    'value_type': 'P1'},\n",
       "   {'id': 3004291845, 'value': '15.83', 'value_type': 'P2'}],\n",
       "  'timestamp': '2018-06-16 07:10:52'},\n",
       " {'id': 1401762046,\n",
       "  'location': {'altitude': '24.4',\n",
       "   'country': 'DE',\n",
       "   'id': 1928,\n",
       "   'latitude': '53.6320',\n",
       "   'longitude': '10.0700'},\n",
       "  'sampling_rate': None,\n",
       "  'sensor': {'id': 3825,\n",
       "   'pin': '1',\n",
       "   'sensor_type': {'id': 14,\n",
       "    'manufacturer': 'Nova Fitness',\n",
       "    'name': 'SDS011'}},\n",
       "  'sensordatavalues': [{'id': 3004291843,\n",
       "    'value': '10.27',\n",
       "    'value_type': 'P1'},\n",
       "   {'id': 3004291846, 'value': '5.63', 'value_type': 'P2'}],\n",
       "  'timestamp': '2018-06-16 07:10:52'},\n",
       " {'id': 1401762047,\n",
       "  'location': {'altitude': '266.1',\n",
       "   'country': 'DE',\n",
       "   'id': 6191,\n",
       "   'latitude': '47.9860',\n",
       "   'longitude': '7.8360'},\n",
       "  'sampling_rate': None,\n",
       "  'sensor': {'id': 12258,\n",
       "   'pin': '7',\n",
       "   'sensor_type': {'id': 9, 'manufacturer': 'various', 'name': 'DHT22'}},\n",
       "  'sensordatavalues': [{'id': 3004291847,\n",
       "    'value': '21.50',\n",
       "    'value_type': 'temperature'},\n",
       "   {'id': 3004291848, 'value': '76.40', 'value_type': 'humidity'}],\n",
       "  'timestamp': '2018-06-16 07:10:52'},\n",
       " {'id': 1401762048,\n",
       "  'location': {'altitude': '149.3',\n",
       "   'country': 'DE',\n",
       "   'id': 2266,\n",
       "   'latitude': '51.7280',\n",
       "   'longitude': '8.7940'},\n",
       "  'sampling_rate': None,\n",
       "  'sensor': {'id': 4507,\n",
       "   'pin': '7',\n",
       "   'sensor_type': {'id': 9, 'manufacturer': 'various', 'name': 'DHT22'}},\n",
       "  'sensordatavalues': [{'id': 3004291851,\n",
       "    'value': '21.20',\n",
       "    'value_type': 'temperature'},\n",
       "   {'id': 3004291852, 'value': '99.90', 'value_type': 'humidity'}],\n",
       "  'timestamp': '2018-06-16 07:10:52'},\n",
       " {'id': 1401762049,\n",
       "  'location': {'altitude': '407.1',\n",
       "   'country': 'DE',\n",
       "   'id': 6470,\n",
       "   'latitude': '47.6540',\n",
       "   'longitude': '7.8960'},\n",
       "  'sampling_rate': None,\n",
       "  'sensor': {'id': 12810,\n",
       "   'pin': '1',\n",
       "   'sensor_type': {'id': 14,\n",
       "    'manufacturer': 'Nova Fitness',\n",
       "    'name': 'SDS011'}},\n",
       "  'sensordatavalues': [{'id': 3004291849, 'value': '7.62', 'value_type': 'P1'},\n",
       "   {'id': 3004291850, 'value': '6.92', 'value_type': 'P2'}],\n",
       "  'timestamp': '2018-06-16 07:10:52'},\n",
       " {'id': 1401762050,\n",
       "  'location': {'altitude': '159.8',\n",
       "   'country': 'DE',\n",
       "   'id': 1827,\n",
       "   'latitude': '50.5340',\n",
       "   'longitude': '8.3160'},\n",
       "  'sampling_rate': None,\n",
       "  'sensor': {'id': 3625,\n",
       "   'pin': '1',\n",
       "   'sensor_type': {'id': 14,\n",
       "    'manufacturer': 'Nova Fitness',\n",
       "    'name': 'SDS011'}},\n",
       "  'sensordatavalues': [{'id': 3004291853,\n",
       "    'value': '19.53',\n",
       "    'value_type': 'P1'},\n",
       "   {'id': 3004291854, 'value': '12.93', 'value_type': 'P2'}],\n",
       "  'timestamp': '2018-06-16 07:10:52'},\n",
       " {'id': 1401762051,\n",
       "  'location': {'altitude': '605.9',\n",
       "   'country': 'BG',\n",
       "   'id': 3667,\n",
       "   'latitude': '42.6700',\n",
       "   'longitude': '23.2700'},\n",
       "  'sampling_rate': None,\n",
       "  'sensor': {'id': 7252,\n",
       "   'pin': '11',\n",
       "   'sensor_type': {'id': 17, 'manufacturer': 'Bosch', 'name': 'BME280'}},\n",
       "  'sensordatavalues': [{'id': 3004291855,\n",
       "    'value': '21.54',\n",
       "    'value_type': 'temperature'},\n",
       "   {'id': 3004291856, 'value': '67.99', 'value_type': 'humidity'},\n",
       "   {'id': 3004291857, 'value': '93772.18', 'value_type': 'pressure'},\n",
       "   {'value': 100547.77, 'value_type': 'pressure_at_sealevel'}],\n",
       "  'timestamp': '2018-06-16 07:10:52'},\n",
       " {'id': 1401762052,\n",
       "  'location': {'altitude': '588.9',\n",
       "   'country': 'BG',\n",
       "   'id': 5278,\n",
       "   'latitude': '42.6560',\n",
       "   'longitude': '23.3740'},\n",
       "  'sampling_rate': None,\n",
       "  'sensor': {'id': 10462,\n",
       "   'pin': '11',\n",
       "   'sensor_type': {'id': 17, 'manufacturer': 'Bosch', 'name': 'BME280'}},\n",
       "  'sensordatavalues': [{'id': 3004291858,\n",
       "    'value': '30.40',\n",
       "    'value_type': 'temperature'},\n",
       "   {'id': 3004291859, 'value': '38.93', 'value_type': 'humidity'},\n",
       "   {'id': 3004291860, 'value': '94129.08', 'value_type': 'pressure'},\n",
       "   {'value': 100536.38, 'value_type': 'pressure_at_sealevel'}],\n",
       "  'timestamp': '2018-06-16 07:10:52'},\n",
       " {'id': 1401762053,\n",
       "  'location': {'altitude': '136.2',\n",
       "   'country': 'DE',\n",
       "   'id': 164,\n",
       "   'latitude': '50.7840',\n",
       "   'longitude': '6.4960'},\n",
       "  'sampling_rate': None,\n",
       "  'sensor': {'id': 352,\n",
       "   'pin': '7',\n",
       "   'sensor_type': {'id': 9, 'manufacturer': 'various', 'name': 'DHT22'}},\n",
       "  'sensordatavalues': [{'id': 3004291861,\n",
       "    'value': '22.10',\n",
       "    'value_type': 'temperature'},\n",
       "   {'id': 3004291862, 'value': '1.00', 'value_type': 'humidity'}],\n",
       "  'timestamp': '2018-06-16 07:10:52'},\n",
       " {'id': 1401762054,\n",
       "  'location': {'altitude': '297.2',\n",
       "   'country': 'DE',\n",
       "   'id': 3542,\n",
       "   'latitude': '48.8120',\n",
       "   'longitude': '9.1460'},\n",
       "  'sampling_rate': None,\n",
       "  'sensor': {'id': 7003,\n",
       "   'pin': '1',\n",
       "   'sensor_type': {'id': 14,\n",
       "    'manufacturer': 'Nova Fitness',\n",
       "    'name': 'SDS011'}},\n",
       "  'sensordatavalues': [{'id': 3004291863,\n",
       "    'value': '11.07',\n",
       "    'value_type': 'P1'},\n",
       "   {'id': 3004291864, 'value': '9.90', 'value_type': 'P2'}],\n",
       "  'timestamp': '2018-06-16 07:10:52'},\n",
       " {'id': 1401762055,\n",
       "  'location': {'altitude': '50.9',\n",
       "   'country': 'DE',\n",
       "   'id': 1715,\n",
       "   'latitude': '50.9300',\n",
       "   'longitude': '6.9240'},\n",
       "  'sampling_rate': None,\n",
       "  'sensor': {'id': 3404,\n",
       "   'pin': '7',\n",
       "   'sensor_type': {'id': 9, 'manufacturer': 'various', 'name': 'DHT22'}},\n",
       "  'sensordatavalues': [{'id': 3004291865,\n",
       "    'value': '21.00',\n",
       "    'value_type': 'temperature'},\n",
       "   {'id': 3004291866, 'value': '59.80', 'value_type': 'humidity'}],\n",
       "  'timestamp': '2018-06-16 07:10:52'},\n",
       " {'id': 1401762056,\n",
       "  'location': {'altitude': '317.8',\n",
       "   'country': 'DE',\n",
       "   'id': 1111,\n",
       "   'latitude': '51.1220',\n",
       "   'longitude': '7.3960'},\n",
       "  'sampling_rate': None,\n",
       "  'sensor': {'id': 2209,\n",
       "   'pin': '1',\n",
       "   'sensor_type': {'id': 14,\n",
       "    'manufacturer': 'Nova Fitness',\n",
       "    'name': 'SDS011'}},\n",
       "  'sensordatavalues': [{'id': 3004291867, 'value': '4.30', 'value_type': 'P1'},\n",
       "   {'id': 3004291868, 'value': '3.90', 'value_type': 'P2'}],\n",
       "  'timestamp': '2018-06-16 07:10:52'},\n",
       " {'id': 1401762057,\n",
       "  'location': {'altitude': '114.6',\n",
       "   'country': 'DE',\n",
       "   'id': 461,\n",
       "   'latitude': '51.4360',\n",
       "   'longitude': '7.3120'},\n",
       "  'sampling_rate': None,\n",
       "  'sensor': {'id': 949,\n",
       "   'pin': '7',\n",
       "   'sensor_type': {'id': 9, 'manufacturer': 'various', 'name': 'DHT22'}},\n",
       "  'sensordatavalues': [{'id': 3004291869,\n",
       "    'value': '22.10',\n",
       "    'value_type': 'temperature'},\n",
       "   {'id': 3004291870, 'value': '48.00', 'value_type': 'humidity'}],\n",
       "  'timestamp': '2018-06-16 07:10:52'},\n",
       " {'id': 1401762058,\n",
       "  'location': {'altitude': '328.0',\n",
       "   'country': 'DE',\n",
       "   'id': 3067,\n",
       "   'latitude': '49.4700',\n",
       "   'longitude': '10.3940'},\n",
       "  'sampling_rate': None,\n",
       "  'sensor': {'id': 6078,\n",
       "   'pin': '7',\n",
       "   'sensor_type': {'id': 9, 'manufacturer': 'various', 'name': 'DHT22'}},\n",
       "  'sensordatavalues': [{'id': 3004291871,\n",
       "    'value': '21.40',\n",
       "    'value_type': 'temperature'},\n",
       "   {'id': 3004291872, 'value': '99.10', 'value_type': 'humidity'}],\n",
       "  'timestamp': '2018-06-16 07:10:52'}]"
      ]
     },
     "execution_count": 27,
     "metadata": {},
     "output_type": "execute_result"
    }
   ],
   "source": [
    "data_from_data_json_api_call[:20]"
   ]
  },
  {
   "cell_type": "code",
   "execution_count": 28,
   "metadata": {},
   "outputs": [
    {
     "data": {
      "text/plain": [
       "[{'id': 1401762782,\n",
       "  'location': {'altitude': '0.0',\n",
       "   'country': 'NL',\n",
       "   'id': 1210,\n",
       "   'latitude': '52.0800',\n",
       "   'longitude': '4.7480'},\n",
       "  'sampling_rate': None,\n",
       "  'sensor': {'id': 2398,\n",
       "   'pin': '1',\n",
       "   'sensor_type': {'id': 14,\n",
       "    'manufacturer': 'Nova Fitness',\n",
       "    'name': 'SDS011'}},\n",
       "  'sensordatavalues': [{'id': 3004293392, 'value': '5.80', 'value_type': 'P1'},\n",
       "   {'id': 3004293394, 'value': '3.50', 'value_type': 'P2'}],\n",
       "  'timestamp': '2018-06-16 07:11:02'},\n",
       " {'id': 1401762817,\n",
       "  'location': {'altitude': '0.0',\n",
       "   'country': 'NL',\n",
       "   'id': 1210,\n",
       "   'latitude': '52.0800',\n",
       "   'longitude': '4.7480'},\n",
       "  'sampling_rate': None,\n",
       "  'sensor': {'id': 2399,\n",
       "   'pin': '7',\n",
       "   'sensor_type': {'id': 9, 'manufacturer': 'various', 'name': 'DHT22'}},\n",
       "  'sensordatavalues': [{'id': 3004293464,\n",
       "    'value': '20.10',\n",
       "    'value_type': 'temperature'},\n",
       "   {'id': 3004293465, 'value': '99.90', 'value_type': 'humidity'}],\n",
       "  'timestamp': '2018-06-16 07:11:03'},\n",
       " {'id': 1401763260,\n",
       "  'location': {'altitude': '626.3',\n",
       "   'country': 'BG',\n",
       "   'id': 2712,\n",
       "   'latitude': '42.6760',\n",
       "   'longitude': '23.2540'},\n",
       "  'sampling_rate': None,\n",
       "  'sensor': {'id': 5377,\n",
       "   'pin': '1',\n",
       "   'sensor_type': {'id': 14,\n",
       "    'manufacturer': 'Nova Fitness',\n",
       "    'name': 'SDS011'}},\n",
       "  'sensordatavalues': [{'id': 3004294395, 'value': '4.10', 'value_type': 'P1'},\n",
       "   {'id': 3004294396, 'value': '3.90', 'value_type': 'P2'}],\n",
       "  'timestamp': '2018-06-16 07:11:10'},\n",
       " {'id': 1401763311,\n",
       "  'location': {'altitude': '626.3',\n",
       "   'country': 'BG',\n",
       "   'id': 2712,\n",
       "   'latitude': '42.6760',\n",
       "   'longitude': '23.2540'},\n",
       "  'sampling_rate': None,\n",
       "  'sensor': {'id': 5378,\n",
       "   'pin': '11',\n",
       "   'sensor_type': {'id': 17, 'manufacturer': 'Bosch', 'name': 'BME280'}},\n",
       "  'sensordatavalues': [{'id': 3004294504,\n",
       "    'value': '24.05',\n",
       "    'value_type': 'temperature'},\n",
       "   {'id': 3004294505, 'value': '59.65', 'value_type': 'humidity'},\n",
       "   {'id': 3004294506, 'value': '93661.73', 'value_type': 'pressure'},\n",
       "   {'value': 100603.04, 'value_type': 'pressure_at_sealevel'}],\n",
       "  'timestamp': '2018-06-16 07:11:11'},\n",
       " {'id': 1401763794,\n",
       "  'location': {'altitude': '67.9',\n",
       "   'country': 'DE',\n",
       "   'id': 2456,\n",
       "   'latitude': '52.5360',\n",
       "   'longitude': '9.3340'},\n",
       "  'sampling_rate': None,\n",
       "  'sensor': {'id': 4883,\n",
       "   'pin': '1',\n",
       "   'sensor_type': {'id': 14,\n",
       "    'manufacturer': 'Nova Fitness',\n",
       "    'name': 'SDS011'}},\n",
       "  'sensordatavalues': [{'id': 3004295519,\n",
       "    'value': '11.50',\n",
       "    'value_type': 'P1'},\n",
       "   {'id': 3004295520, 'value': '8.57', 'value_type': 'P2'}],\n",
       "  'timestamp': '2018-06-16 07:11:17'},\n",
       " {'id': 1401763903,\n",
       "  'location': {'altitude': '48.2',\n",
       "   'country': 'DE',\n",
       "   'id': 2392,\n",
       "   'latitude': '52.5780',\n",
       "   'longitude': '13.4260'},\n",
       "  'sampling_rate': None,\n",
       "  'sensor': {'id': 4756,\n",
       "   'pin': '1',\n",
       "   'sensor_type': {'id': 14,\n",
       "    'manufacturer': 'Nova Fitness',\n",
       "    'name': 'SDS011'}},\n",
       "  'sensordatavalues': [{'id': 3004295744,\n",
       "    'value': '11.57',\n",
       "    'value_type': 'P1'},\n",
       "   {'id': 3004295745, 'value': '9.10', 'value_type': 'P2'}],\n",
       "  'timestamp': '2018-06-16 07:11:19'},\n",
       " {'id': 1401764022,\n",
       "  'location': {'altitude': '48.2',\n",
       "   'country': 'DE',\n",
       "   'id': 2392,\n",
       "   'latitude': '52.5780',\n",
       "   'longitude': '13.4260'},\n",
       "  'sampling_rate': None,\n",
       "  'sensor': {'id': 4757,\n",
       "   'pin': '7',\n",
       "   'sensor_type': {'id': 9, 'manufacturer': 'various', 'name': 'DHT22'}},\n",
       "  'sensordatavalues': [{'id': 3004295997,\n",
       "    'value': '23.20',\n",
       "    'value_type': 'temperature'},\n",
       "   {'id': 3004295998, 'value': '99.50', 'value_type': 'humidity'}],\n",
       "  'timestamp': '2018-06-16 07:11:21'},\n",
       " {'id': 1401764674,\n",
       "  'location': {'altitude': '93.6',\n",
       "   'country': 'DE',\n",
       "   'id': 6924,\n",
       "   'latitude': '52.1220',\n",
       "   'longitude': '9.9520'},\n",
       "  'sampling_rate': None,\n",
       "  'sensor': {'id': 13704,\n",
       "   'pin': '1',\n",
       "   'sensor_type': {'id': 14,\n",
       "    'manufacturer': 'Nova Fitness',\n",
       "    'name': 'SDS011'}},\n",
       "  'sensordatavalues': [{'id': 3004297397, 'value': '4.10', 'value_type': 'P1'},\n",
       "   {'id': 3004297398, 'value': '3.83', 'value_type': 'P2'}],\n",
       "  'timestamp': '2018-06-16 07:11:33'},\n",
       " {'id': 1401764709,\n",
       "  'location': {'altitude': '93.6',\n",
       "   'country': 'DE',\n",
       "   'id': 6924,\n",
       "   'latitude': '52.1220',\n",
       "   'longitude': '9.9520'},\n",
       "  'sampling_rate': None,\n",
       "  'sensor': {'id': 13705,\n",
       "   'pin': '7',\n",
       "   'sensor_type': {'id': 9, 'manufacturer': 'various', 'name': 'DHT22'}},\n",
       "  'sensordatavalues': [{'id': 3004297470,\n",
       "    'value': '21.90',\n",
       "    'value_type': 'temperature'},\n",
       "   {'id': 3004297471, 'value': '76.00', 'value_type': 'humidity'}],\n",
       "  'timestamp': '2018-06-16 07:11:33'},\n",
       " {'id': 1401764754,\n",
       "  'location': {'altitude': '414.4',\n",
       "   'country': 'DE',\n",
       "   'id': 1939,\n",
       "   'latitude': '48.7200',\n",
       "   'longitude': '9.1660'},\n",
       "  'sampling_rate': None,\n",
       "  'sensor': {'id': 3847,\n",
       "   'pin': '1',\n",
       "   'sensor_type': {'id': 14,\n",
       "    'manufacturer': 'Nova Fitness',\n",
       "    'name': 'SDS011'}},\n",
       "  'sensordatavalues': [{'id': 3004297566,\n",
       "    'value': '17.07',\n",
       "    'value_type': 'P1'},\n",
       "   {'id': 3004297567, 'value': '9.87', 'value_type': 'P2'}],\n",
       "  'timestamp': '2018-06-16 07:11:34'},\n",
       " {'id': 1401765174,\n",
       "  'location': {'altitude': '337.8',\n",
       "   'country': 'DE',\n",
       "   'id': 2546,\n",
       "   'latitude': '48.5120',\n",
       "   'longitude': '9.1600'},\n",
       "  'sampling_rate': None,\n",
       "  'sensor': {'id': 5054,\n",
       "   'pin': '1',\n",
       "   'sensor_type': {'id': 14,\n",
       "    'manufacturer': 'Nova Fitness',\n",
       "    'name': 'SDS011'}},\n",
       "  'sensordatavalues': [{'id': 3004298438,\n",
       "    'value': '15.00',\n",
       "    'value_type': 'P1'},\n",
       "   {'id': 3004298439, 'value': '13.17', 'value_type': 'P2'}],\n",
       "  'timestamp': '2018-06-16 07:11:39'},\n",
       " {'id': 1401765230,\n",
       "  'location': {'altitude': '337.8',\n",
       "   'country': 'DE',\n",
       "   'id': 2546,\n",
       "   'latitude': '48.5120',\n",
       "   'longitude': '9.1600'},\n",
       "  'sampling_rate': None,\n",
       "  'sensor': {'id': 5055,\n",
       "   'pin': '7',\n",
       "   'sensor_type': {'id': 9, 'manufacturer': 'various', 'name': 'DHT22'}},\n",
       "  'sensordatavalues': [{'id': 3004298557,\n",
       "    'value': '21.80',\n",
       "    'value_type': 'temperature'},\n",
       "   {'id': 3004298558, 'value': '96.40', 'value_type': 'humidity'}],\n",
       "  'timestamp': '2018-06-16 07:11:39'},\n",
       " {'id': 1401765492,\n",
       "  'location': {'altitude': '2.4',\n",
       "   'country': 'DE',\n",
       "   'id': 2728,\n",
       "   'latitude': '53.4940',\n",
       "   'longitude': '9.9920'},\n",
       "  'sampling_rate': None,\n",
       "  'sensor': {'id': 5410,\n",
       "   'pin': '1',\n",
       "   'sensor_type': {'id': 14,\n",
       "    'manufacturer': 'Nova Fitness',\n",
       "    'name': 'SDS011'}},\n",
       "  'sensordatavalues': [{'id': 3004299115, 'value': '3.53', 'value_type': 'P1'},\n",
       "   {'id': 3004299116, 'value': '3.07', 'value_type': 'P2'}],\n",
       "  'timestamp': '2018-06-16 07:11:43'},\n",
       " {'id': 1401765943,\n",
       "  'location': {'altitude': '33.5',\n",
       "   'country': 'DE',\n",
       "   'id': 3525,\n",
       "   'latitude': '53.2300',\n",
       "   'longitude': '10.4000'},\n",
       "  'sampling_rate': None,\n",
       "  'sensor': {'id': 6969,\n",
       "   'pin': '1',\n",
       "   'sensor_type': {'id': 14,\n",
       "    'manufacturer': 'Nova Fitness',\n",
       "    'name': 'SDS011'}},\n",
       "  'sensordatavalues': [{'id': 3004300059, 'value': '9.80', 'value_type': 'P1'},\n",
       "   {'id': 3004300060, 'value': '7.50', 'value_type': 'P2'}],\n",
       "  'timestamp': '2018-06-16 07:11:50'},\n",
       " {'id': 1401765979,\n",
       "  'location': {'altitude': '33.5',\n",
       "   'country': 'DE',\n",
       "   'id': 3525,\n",
       "   'latitude': '53.2300',\n",
       "   'longitude': '10.4000'},\n",
       "  'sampling_rate': None,\n",
       "  'sensor': {'id': 6970,\n",
       "   'pin': '7',\n",
       "   'sensor_type': {'id': 9, 'manufacturer': 'various', 'name': 'DHT22'}},\n",
       "  'sensordatavalues': [{'id': 3004300132,\n",
       "    'value': '21.00',\n",
       "    'value_type': 'temperature'},\n",
       "   {'id': 3004300134, 'value': '98.00', 'value_type': 'humidity'}],\n",
       "  'timestamp': '2018-06-16 07:11:50'},\n",
       " {'id': 1401766438,\n",
       "  'location': {'altitude': '46.4',\n",
       "   'country': 'DE',\n",
       "   'id': 2662,\n",
       "   'latitude': '51.1940',\n",
       "   'longitude': '6.6140'},\n",
       "  'sampling_rate': None,\n",
       "  'sensor': {'id': 5277,\n",
       "   'pin': '1',\n",
       "   'sensor_type': {'id': 14,\n",
       "    'manufacturer': 'Nova Fitness',\n",
       "    'name': 'SDS011'}},\n",
       "  'sensordatavalues': [{'id': 3004301098,\n",
       "    'value': '27.30',\n",
       "    'value_type': 'P1'},\n",
       "   {'id': 3004301099, 'value': '14.20', 'value_type': 'P2'}],\n",
       "  'timestamp': '2018-06-16 07:11:58'},\n",
       " {'id': 1401766481,\n",
       "  'location': {'altitude': '46.4',\n",
       "   'country': 'DE',\n",
       "   'id': 2662,\n",
       "   'latitude': '51.1940',\n",
       "   'longitude': '6.6140'},\n",
       "  'sampling_rate': None,\n",
       "  'sensor': {'id': 5278,\n",
       "   'pin': '7',\n",
       "   'sensor_type': {'id': 9, 'manufacturer': 'various', 'name': 'DHT22'}},\n",
       "  'sensordatavalues': [{'id': 3004301191,\n",
       "    'value': '37.60',\n",
       "    'value_type': 'temperature'},\n",
       "   {'id': 3004301192, 'value': '71.90', 'value_type': 'humidity'}],\n",
       "  'timestamp': '2018-06-16 07:11:58'},\n",
       " {'id': 1401767524,\n",
       "  'location': {'altitude': '12.8',\n",
       "   'country': 'BG',\n",
       "   'id': 6590,\n",
       "   'latitude': '42.6600',\n",
       "   'longitude': '27.7120'},\n",
       "  'sampling_rate': None,\n",
       "  'sensor': {'id': 13046,\n",
       "   'pin': '1',\n",
       "   'sensor_type': {'id': 14,\n",
       "    'manufacturer': 'Nova Fitness',\n",
       "    'name': 'SDS011'}},\n",
       "  'sensordatavalues': [{'id': 3004303380, 'value': '5.23', 'value_type': 'P1'},\n",
       "   {'id': 3004303381, 'value': '4.30', 'value_type': 'P2'}],\n",
       "  'timestamp': '2018-06-16 07:12:15'},\n",
       " {'id': 1401767585,\n",
       "  'location': {'altitude': '12.8',\n",
       "   'country': 'BG',\n",
       "   'id': 6590,\n",
       "   'latitude': '42.6600',\n",
       "   'longitude': '27.7120'},\n",
       "  'sampling_rate': None,\n",
       "  'sensor': {'id': 13047,\n",
       "   'pin': '11',\n",
       "   'sensor_type': {'id': 17, 'manufacturer': 'Bosch', 'name': 'BME280'}},\n",
       "  'sensordatavalues': [{'id': 3004303508,\n",
       "    'value': '25.47',\n",
       "    'value_type': 'temperature'},\n",
       "   {'id': 3004303509, 'value': '59.34', 'value_type': 'humidity'},\n",
       "   {'id': 3004303510, 'value': '100655.33', 'value_type': 'pressure'},\n",
       "   {'value': 100802.79, 'value_type': 'pressure_at_sealevel'}],\n",
       "  'timestamp': '2018-06-16 07:12:16'},\n",
       " {'id': 1401767648,\n",
       "  'location': {'altitude': '18.2',\n",
       "   'country': 'DE',\n",
       "   'id': 2388,\n",
       "   'latitude': '53.5820',\n",
       "   'longitude': '9.9620'},\n",
       "  'sampling_rate': None,\n",
       "  'sensor': {'id': 4748,\n",
       "   'pin': '1',\n",
       "   'sensor_type': {'id': 14,\n",
       "    'manufacturer': 'Nova Fitness',\n",
       "    'name': 'SDS011'}},\n",
       "  'sensordatavalues': [{'id': 3004303646,\n",
       "    'value': '18.03',\n",
       "    'value_type': 'P1'},\n",
       "   {'id': 3004303647, 'value': '5.87', 'value_type': 'P2'}],\n",
       "  'timestamp': '2018-06-16 07:12:16'}]"
      ]
     },
     "execution_count": 28,
     "metadata": {},
     "output_type": "execute_result"
    }
   ],
   "source": [
    "freiburg_sensors__all_entries[:20]"
   ]
  },
  {
   "cell_type": "markdown",
   "metadata": {},
   "source": [
    "#### Check the values of the found humidity sensors "
   ]
  },
  {
   "cell_type": "code",
   "execution_count": 29,
   "metadata": {},
   "outputs": [
    {
     "name": "stdout",
     "output_type": "stream",
     "text": [
      "- checking sensor : {'id': 14, 'name': 'SDS011', 'manufacturer': 'Nova Fitness'} num : 0/35\n",
      "\t -fnd sensorValue of 5.80 of sensor/Type SDS011/P1 | LOCid = 1210 | sensorID 2398 | PMid diff = 0\n",
      "\t -fnd sensorValue of 3.50 of sensor/Type SDS011/P2 | LOCid = 1210 | sensorID 2398 | PMid diff = 0\n",
      "- checking sensor : {'id': 9, 'name': 'DHT22', 'manufacturer': 'various'} num : 1/35\n",
      "\t -fnd sensorValue of 20.10 of sensor/Type DHT22/temperature | LOCid = 1210 | sensorID 2399 | PMid diff = 1\n",
      "\t -fnd sensorValue of 99.90 of sensor/Type DHT22/humidity | LOCid = 1210 | sensorID 2399 | PMid diff = 1\n",
      "- checking sensor : {'id': 14, 'name': 'SDS011', 'manufacturer': 'Nova Fitness'} num : 2/35\n",
      "\t -fnd sensorValue of 4.10 of sensor/Type SDS011/P1 | LOCid = 2712 | sensorID 5377 | PMid diff = 0\n",
      "\t -fnd sensorValue of 3.90 of sensor/Type SDS011/P2 | LOCid = 2712 | sensorID 5377 | PMid diff = 0\n",
      "- checking sensor : {'id': 17, 'name': 'BME280', 'manufacturer': 'Bosch'} num : 3/35\n",
      "\t -fnd sensorValue of 24.05 of sensor/Type BME280/temperature | LOCid = 2712 | sensorID 5378 | PMid diff = 1\n",
      "\t -fnd sensorValue of 59.65 of sensor/Type BME280/humidity | LOCid = 2712 | sensorID 5378 | PMid diff = 1\n",
      "\t -fnd sensorValue of 93661.73 of sensor/Type BME280/pressure | LOCid = 2712 | sensorID 5378 | PMid diff = 1\n",
      "\t -fnd sensorValue of 100603.04 of sensor/Type BME280/pressure_at_sealevel | LOCid = 2712 | sensorID 5378 | PMid diff = 1\n",
      "- checking sensor : {'id': 14, 'name': 'SDS011', 'manufacturer': 'Nova Fitness'} num : 4/35\n",
      "\t -fnd sensorValue of 11.50 of sensor/Type SDS011/P1 | LOCid = 2456 | sensorID 4883 | PMid diff = 0\n",
      "\t -fnd sensorValue of 8.57 of sensor/Type SDS011/P2 | LOCid = 2456 | sensorID 4883 | PMid diff = 0\n",
      "- checking sensor : {'id': 14, 'name': 'SDS011', 'manufacturer': 'Nova Fitness'} num : 5/35\n",
      "\t -fnd sensorValue of 11.57 of sensor/Type SDS011/P1 | LOCid = 2392 | sensorID 4756 | PMid diff = 0\n",
      "\t -fnd sensorValue of 9.10 of sensor/Type SDS011/P2 | LOCid = 2392 | sensorID 4756 | PMid diff = 0\n",
      "- checking sensor : {'id': 9, 'name': 'DHT22', 'manufacturer': 'various'} num : 6/35\n",
      "\t -fnd sensorValue of 23.20 of sensor/Type DHT22/temperature | LOCid = 2392 | sensorID 4757 | PMid diff = 1\n",
      "\t -fnd sensorValue of 99.50 of sensor/Type DHT22/humidity | LOCid = 2392 | sensorID 4757 | PMid diff = 1\n",
      "- checking sensor : {'id': 14, 'name': 'SDS011', 'manufacturer': 'Nova Fitness'} num : 7/35\n",
      "\t -fnd sensorValue of 4.10 of sensor/Type SDS011/P1 | LOCid = 6924 | sensorID 13704 | PMid diff = 0\n",
      "\t -fnd sensorValue of 3.83 of sensor/Type SDS011/P2 | LOCid = 6924 | sensorID 13704 | PMid diff = 0\n",
      "- checking sensor : {'id': 9, 'name': 'DHT22', 'manufacturer': 'various'} num : 8/35\n",
      "\t -fnd sensorValue of 21.90 of sensor/Type DHT22/temperature | LOCid = 6924 | sensorID 13705 | PMid diff = 1\n",
      "\t -fnd sensorValue of 76.00 of sensor/Type DHT22/humidity | LOCid = 6924 | sensorID 13705 | PMid diff = 1\n",
      "- checking sensor : {'id': 14, 'name': 'SDS011', 'manufacturer': 'Nova Fitness'} num : 9/35\n",
      "\t -fnd sensorValue of 17.07 of sensor/Type SDS011/P1 | LOCid = 1939 | sensorID 3847 | PMid diff = 0\n",
      "\t -fnd sensorValue of 9.87 of sensor/Type SDS011/P2 | LOCid = 1939 | sensorID 3847 | PMid diff = 0\n",
      "- checking sensor : {'id': 14, 'name': 'SDS011', 'manufacturer': 'Nova Fitness'} num : 10/35\n",
      "\t -fnd sensorValue of 15.00 of sensor/Type SDS011/P1 | LOCid = 2546 | sensorID 5054 | PMid diff = 0\n",
      "\t -fnd sensorValue of 13.17 of sensor/Type SDS011/P2 | LOCid = 2546 | sensorID 5054 | PMid diff = 0\n",
      "- checking sensor : {'id': 9, 'name': 'DHT22', 'manufacturer': 'various'} num : 11/35\n",
      "\t -fnd sensorValue of 21.80 of sensor/Type DHT22/temperature | LOCid = 2546 | sensorID 5055 | PMid diff = 1\n",
      "\t -fnd sensorValue of 96.40 of sensor/Type DHT22/humidity | LOCid = 2546 | sensorID 5055 | PMid diff = 1\n",
      "- checking sensor : {'id': 14, 'name': 'SDS011', 'manufacturer': 'Nova Fitness'} num : 12/35\n",
      "\t -fnd sensorValue of 3.53 of sensor/Type SDS011/P1 | LOCid = 2728 | sensorID 5410 | PMid diff = 0\n",
      "\t -fnd sensorValue of 3.07 of sensor/Type SDS011/P2 | LOCid = 2728 | sensorID 5410 | PMid diff = 0\n",
      "- checking sensor : {'id': 14, 'name': 'SDS011', 'manufacturer': 'Nova Fitness'} num : 13/35\n",
      "\t -fnd sensorValue of 9.80 of sensor/Type SDS011/P1 | LOCid = 3525 | sensorID 6969 | PMid diff = 0\n",
      "\t -fnd sensorValue of 7.50 of sensor/Type SDS011/P2 | LOCid = 3525 | sensorID 6969 | PMid diff = 0\n",
      "- checking sensor : {'id': 9, 'name': 'DHT22', 'manufacturer': 'various'} num : 14/35\n",
      "\t -fnd sensorValue of 21.00 of sensor/Type DHT22/temperature | LOCid = 3525 | sensorID 6970 | PMid diff = 1\n",
      "\t -fnd sensorValue of 98.00 of sensor/Type DHT22/humidity | LOCid = 3525 | sensorID 6970 | PMid diff = 1\n",
      "- checking sensor : {'id': 14, 'name': 'SDS011', 'manufacturer': 'Nova Fitness'} num : 15/35\n",
      "\t -fnd sensorValue of 27.30 of sensor/Type SDS011/P1 | LOCid = 2662 | sensorID 5277 | PMid diff = 0\n",
      "\t -fnd sensorValue of 14.20 of sensor/Type SDS011/P2 | LOCid = 2662 | sensorID 5277 | PMid diff = 0\n",
      "- checking sensor : {'id': 9, 'name': 'DHT22', 'manufacturer': 'various'} num : 16/35\n",
      "\t -fnd sensorValue of 37.60 of sensor/Type DHT22/temperature | LOCid = 2662 | sensorID 5278 | PMid diff = 1\n",
      "\t -fnd sensorValue of 71.90 of sensor/Type DHT22/humidity | LOCid = 2662 | sensorID 5278 | PMid diff = 1\n",
      "- checking sensor : {'id': 14, 'name': 'SDS011', 'manufacturer': 'Nova Fitness'} num : 17/35\n",
      "\t -fnd sensorValue of 5.23 of sensor/Type SDS011/P1 | LOCid = 6590 | sensorID 13046 | PMid diff = 0\n",
      "\t -fnd sensorValue of 4.30 of sensor/Type SDS011/P2 | LOCid = 6590 | sensorID 13046 | PMid diff = 0\n",
      "- checking sensor : {'id': 17, 'name': 'BME280', 'manufacturer': 'Bosch'} num : 18/35\n",
      "\t -fnd sensorValue of 25.47 of sensor/Type BME280/temperature | LOCid = 6590 | sensorID 13047 | PMid diff = 1\n",
      "\t -fnd sensorValue of 59.34 of sensor/Type BME280/humidity | LOCid = 6590 | sensorID 13047 | PMid diff = 1\n",
      "\t -fnd sensorValue of 100655.33 of sensor/Type BME280/pressure | LOCid = 6590 | sensorID 13047 | PMid diff = 1\n",
      "\t -fnd sensorValue of 100802.79 of sensor/Type BME280/pressure_at_sealevel | LOCid = 6590 | sensorID 13047 | PMid diff = 1\n",
      "- checking sensor : {'id': 14, 'name': 'SDS011', 'manufacturer': 'Nova Fitness'} num : 19/35\n",
      "\t -fnd sensorValue of 18.03 of sensor/Type SDS011/P1 | LOCid = 2388 | sensorID 4748 | PMid diff = 0\n",
      "\t -fnd sensorValue of 5.87 of sensor/Type SDS011/P2 | LOCid = 2388 | sensorID 4748 | PMid diff = 0\n",
      "- checking sensor : {'id': 9, 'name': 'DHT22', 'manufacturer': 'various'} num : 20/35\n",
      "\t -fnd sensorValue of 18.90 of sensor/Type DHT22/temperature | LOCid = 2388 | sensorID 4749 | PMid diff = 1\n",
      "\t -fnd sensorValue of 91.00 of sensor/Type DHT22/humidity | LOCid = 2388 | sensorID 4749 | PMid diff = 1\n",
      "- checking sensor : {'id': 14, 'name': 'SDS011', 'manufacturer': 'Nova Fitness'} num : 21/35\n",
      "\t -fnd sensorValue of 31.43 of sensor/Type SDS011/P1 | LOCid = 1685 | sensorID 3343 | PMid diff = 0\n",
      "\t -fnd sensorValue of 22.10 of sensor/Type SDS011/P2 | LOCid = 1685 | sensorID 3343 | PMid diff = 0\n",
      "- checking sensor : {'id': 9, 'name': 'DHT22', 'manufacturer': 'various'} num : 22/35\n",
      "\t -fnd sensorValue of 20.40 of sensor/Type DHT22/temperature | LOCid = 1685 | sensorID 3344 | PMid diff = 1\n",
      "\t -fnd sensorValue of 99.90 of sensor/Type DHT22/humidity | LOCid = 1685 | sensorID 3344 | PMid diff = 1\n",
      "- checking sensor : {'id': 14, 'name': 'SDS011', 'manufacturer': 'Nova Fitness'} num : 23/35\n",
      "\t -fnd sensorValue of 7.73 of sensor/Type SDS011/P1 | LOCid = 4299 | sensorID 8522 | PMid diff = 0\n",
      "\t -fnd sensorValue of 5.50 of sensor/Type SDS011/P2 | LOCid = 4299 | sensorID 8522 | PMid diff = 0\n",
      "- checking sensor : {'id': 17, 'name': 'BME280', 'manufacturer': 'Bosch'} num : 24/35\n",
      "\t -fnd sensorValue of 23.02 of sensor/Type BME280/temperature | LOCid = 4299 | sensorID 8523 | PMid diff = 1\n",
      "\t -fnd sensorValue of 74.92 of sensor/Type BME280/humidity | LOCid = 4299 | sensorID 8523 | PMid diff = 1\n",
      "\t -fnd sensorValue of 98945.55 of sensor/Type BME280/pressure | LOCid = 4299 | sensorID 8523 | PMid diff = 1\n",
      "\t -fnd sensorValue of 100904.44 of sensor/Type BME280/pressure_at_sealevel | LOCid = 4299 | sensorID 8523 | PMid diff = 1\n",
      "- checking sensor : {'id': 14, 'name': 'SDS011', 'manufacturer': 'Nova Fitness'} num : 25/35\n",
      "\t -fnd sensorValue of 15.67 of sensor/Type SDS011/P1 | LOCid = 1288 | sensorID 2556 | PMid diff = 0\n",
      "\t -fnd sensorValue of 12.07 of sensor/Type SDS011/P2 | LOCid = 1288 | sensorID 2556 | PMid diff = 0\n",
      "- checking sensor : {'id': 14, 'name': 'SDS011', 'manufacturer': 'Nova Fitness'} num : 26/35\n",
      "\t -fnd sensorValue of 10.00 of sensor/Type SDS011/P1 | LOCid = 3527 | sensorID 6973 | PMid diff = 0\n",
      "\t -fnd sensorValue of 5.97 of sensor/Type SDS011/P2 | LOCid = 3527 | sensorID 6973 | PMid diff = 0\n",
      "- checking sensor : {'id': 9, 'name': 'DHT22', 'manufacturer': 'various'} num : 27/35\n",
      "\t -fnd sensorValue of 19.70 of sensor/Type DHT22/temperature | LOCid = 1288 | sensorID 2557 | PMid diff = -4416\n",
      "\t -fnd sensorValue of 99.90 of sensor/Type DHT22/humidity | LOCid = 1288 | sensorID 2557 | PMid diff = -4416\n",
      "- checking sensor : {'id': 9, 'name': 'DHT22', 'manufacturer': 'various'} num : 28/35\n",
      "\t -fnd sensorValue of 21.60 of sensor/Type DHT22/temperature | LOCid = 3527 | sensorID 6974 | PMid diff = 1\n",
      "\t -fnd sensorValue of 99.90 of sensor/Type DHT22/humidity | LOCid = 3527 | sensorID 6974 | PMid diff = 1\n",
      "- checking sensor : {'id': 14, 'name': 'SDS011', 'manufacturer': 'Nova Fitness'} num : 29/35\n",
      "\t -fnd sensorValue of 11.07 of sensor/Type SDS011/P1 | LOCid = 4206 | sensorID 8337 | PMid diff = 0\n",
      "\t -fnd sensorValue of 7.40 of sensor/Type SDS011/P2 | LOCid = 4206 | sensorID 8337 | PMid diff = 0\n",
      "- checking sensor : {'id': 9, 'name': 'DHT22', 'manufacturer': 'various'} num : 30/35\n",
      "\t -fnd sensorValue of 20.60 of sensor/Type DHT22/temperature | LOCid = 4206 | sensorID 8338 | PMid diff = 1\n",
      "\t -fnd sensorValue of 99.90 of sensor/Type DHT22/humidity | LOCid = 4206 | sensorID 8338 | PMid diff = 1\n",
      "- checking sensor : {'id': 14, 'name': 'SDS011', 'manufacturer': 'Nova Fitness'} num : 31/35\n",
      "\t -fnd sensorValue of 14.23 of sensor/Type SDS011/P1 | LOCid = 533 | sensorID 1088 | PMid diff = 0\n",
      "\t -fnd sensorValue of 8.00 of sensor/Type SDS011/P2 | LOCid = 533 | sensorID 1088 | PMid diff = 0\n",
      "- checking sensor : {'id': 9, 'name': 'DHT22', 'manufacturer': 'various'} num : 32/35\n",
      "\t -fnd sensorValue of 20.60 of sensor/Type DHT22/temperature | LOCid = 533 | sensorID 1089 | PMid diff = 1\n",
      "\t -fnd sensorValue of 87.10 of sensor/Type DHT22/humidity | LOCid = 533 | sensorID 1089 | PMid diff = 1\n",
      "- checking sensor : {'id': 14, 'name': 'SDS011', 'manufacturer': 'Nova Fitness'} num : 33/35\n",
      "\t -fnd sensorValue of 10.43 of sensor/Type SDS011/P1 | LOCid = 2289 | sensorID 4553 | PMid diff = 0\n",
      "\t -fnd sensorValue of 6.00 of sensor/Type SDS011/P2 | LOCid = 2289 | sensorID 4553 | PMid diff = 0\n",
      "- checking sensor : {'id': 14, 'name': 'SDS011', 'manufacturer': 'Nova Fitness'} num : 34/35\n",
      "\t -fnd sensorValue of 10.27 of sensor/Type SDS011/P1 | LOCid = 1667 | sensorID 3309 | PMid diff = 0\n",
      "\t -fnd sensorValue of 4.50 of sensor/Type SDS011/P2 | LOCid = 1667 | sensorID 3309 | PMid diff = 0\n",
      "- checking sensor : {'id': 9, 'name': 'DHT22', 'manufacturer': 'various'} num : 35/35\n",
      "\t -fnd sensorValue of 23.40 of sensor/Type DHT22/temperature | LOCid = 1667 | sensorID 3310 | PMid diff = 1\n",
      "\t -fnd sensorValue of 49.50 of sensor/Type DHT22/humidity | LOCid = 1667 | sensorID 3310 | PMid diff = 1\n",
      "- checking sensor : {'id': 14, 'name': 'SDS011', 'manufacturer': 'Nova Fitness'} num : 36/35\n",
      "\t -fnd sensorValue of 2.45 of sensor/Type SDS011/P1 | LOCid = 5559 | sensorID 11012 | PMid diff = 0\n",
      "\t -fnd sensorValue of 1.70 of sensor/Type SDS011/P2 | LOCid = 5559 | sensorID 11012 | PMid diff = 0\n",
      "- checking sensor : {'id': 9, 'name': 'DHT22', 'manufacturer': 'various'} num : 37/35\n",
      "\t -fnd sensorValue of 21.70 of sensor/Type DHT22/temperature | LOCid = 5559 | sensorID 11013 | PMid diff = 1\n",
      "\t -fnd sensorValue of 76.50 of sensor/Type DHT22/humidity | LOCid = 5559 | sensorID 11013 | PMid diff = 1\n",
      "- checking sensor : {'id': 14, 'name': 'SDS011', 'manufacturer': 'Nova Fitness'} num : 38/35\n",
      "\t -fnd sensorValue of 10.70 of sensor/Type SDS011/P1 | LOCid = 2734 | sensorID 5422 | PMid diff = 0\n",
      "\t -fnd sensorValue of 6.63 of sensor/Type SDS011/P2 | LOCid = 2734 | sensorID 5422 | PMid diff = 0\n",
      "- checking sensor : {'id': 14, 'name': 'SDS011', 'manufacturer': 'Nova Fitness'} num : 39/35\n",
      "\t -fnd sensorValue of 7.30 of sensor/Type SDS011/P1 | LOCid = 5335 | sensorID 10573 | PMid diff = 0\n",
      "\t -fnd sensorValue of 6.70 of sensor/Type SDS011/P2 | LOCid = 5335 | sensorID 10573 | PMid diff = 0\n",
      "- checking sensor : {'id': 14, 'name': 'SDS011', 'manufacturer': 'Nova Fitness'} num : 40/35\n",
      "\t -fnd sensorValue of 2.60 of sensor/Type SDS011/P1 | LOCid = 2728 | sensorID 5410 | PMid diff = 0\n",
      "\t -fnd sensorValue of 2.50 of sensor/Type SDS011/P2 | LOCid = 2728 | sensorID 5410 | PMid diff = 0\n",
      "- checking sensor : {'id': 14, 'name': 'SDS011', 'manufacturer': 'Nova Fitness'} num : 41/35\n",
      "\t -fnd sensorValue of 10.07 of sensor/Type SDS011/P1 | LOCid = 1210 | sensorID 2398 | PMid diff = 0\n",
      "\t -fnd sensorValue of 3.83 of sensor/Type SDS011/P2 | LOCid = 1210 | sensorID 2398 | PMid diff = 0\n",
      "- checking sensor : {'id': 9, 'name': 'DHT22', 'manufacturer': 'various'} num : 42/35\n",
      "\t -fnd sensorValue of 20.10 of sensor/Type DHT22/temperature | LOCid = 1210 | sensorID 2399 | PMid diff = 1\n",
      "\t -fnd sensorValue of 99.90 of sensor/Type DHT22/humidity | LOCid = 1210 | sensorID 2399 | PMid diff = 1\n",
      "- checking sensor : {'id': 14, 'name': 'SDS011', 'manufacturer': 'Nova Fitness'} num : 43/35\n",
      "\t -fnd sensorValue of 5.50 of sensor/Type SDS011/P1 | LOCid = 2712 | sensorID 5377 | PMid diff = 0\n",
      "\t -fnd sensorValue of 5.13 of sensor/Type SDS011/P2 | LOCid = 2712 | sensorID 5377 | PMid diff = 0\n",
      "- checking sensor : {'id': 17, 'name': 'BME280', 'manufacturer': 'Bosch'} num : 44/35\n",
      "\t -fnd sensorValue of 25.35 of sensor/Type BME280/temperature | LOCid = 2712 | sensorID 5378 | PMid diff = 1\n",
      "\t -fnd sensorValue of 54.84 of sensor/Type BME280/humidity | LOCid = 2712 | sensorID 5378 | PMid diff = 1\n",
      "\t -fnd sensorValue of 93672.06 of sensor/Type BME280/pressure | LOCid = 2712 | sensorID 5378 | PMid diff = 1\n",
      "\t -fnd sensorValue of 100583.02 of sensor/Type BME280/pressure_at_sealevel | LOCid = 2712 | sensorID 5378 | PMid diff = 1\n",
      "- checking sensor : {'id': 14, 'name': 'SDS011', 'manufacturer': 'Nova Fitness'} num : 45/35\n",
      "\t -fnd sensorValue of 10.10 of sensor/Type SDS011/P1 | LOCid = 2456 | sensorID 4883 | PMid diff = 0\n",
      "\t -fnd sensorValue of 8.23 of sensor/Type SDS011/P2 | LOCid = 2456 | sensorID 4883 | PMid diff = 0\n",
      "- checking sensor : {'id': 14, 'name': 'SDS011', 'manufacturer': 'Nova Fitness'} num : 46/35\n",
      "\t -fnd sensorValue of 8.20 of sensor/Type SDS011/P1 | LOCid = 2392 | sensorID 4756 | PMid diff = 0\n",
      "\t -fnd sensorValue of 7.50 of sensor/Type SDS011/P2 | LOCid = 2392 | sensorID 4756 | PMid diff = 0\n",
      "- checking sensor : {'id': 9, 'name': 'DHT22', 'manufacturer': 'various'} num : 47/35\n",
      "\t -fnd sensorValue of 23.30 of sensor/Type DHT22/temperature | LOCid = 2392 | sensorID 4757 | PMid diff = 1\n",
      "\t -fnd sensorValue of 98.60 of sensor/Type DHT22/humidity | LOCid = 2392 | sensorID 4757 | PMid diff = 1\n",
      "- checking sensor : {'id': 14, 'name': 'SDS011', 'manufacturer': 'Nova Fitness'} num : 48/35\n",
      "\t -fnd sensorValue of 4.23 of sensor/Type SDS011/P1 | LOCid = 6924 | sensorID 13704 | PMid diff = 0\n",
      "\t -fnd sensorValue of 4.03 of sensor/Type SDS011/P2 | LOCid = 6924 | sensorID 13704 | PMid diff = 0\n",
      "- checking sensor : {'id': 9, 'name': 'DHT22', 'manufacturer': 'various'} num : 49/35\n",
      "\t -fnd sensorValue of 21.90 of sensor/Type DHT22/temperature | LOCid = 6924 | sensorID 13705 | PMid diff = 1\n",
      "\t -fnd sensorValue of 75.90 of sensor/Type DHT22/humidity | LOCid = 6924 | sensorID 13705 | PMid diff = 1\n",
      "- checking sensor : {'id': 14, 'name': 'SDS011', 'manufacturer': 'Nova Fitness'} num : 50/35\n",
      "\t -fnd sensorValue of 13.03 of sensor/Type SDS011/P1 | LOCid = 1939 | sensorID 3847 | PMid diff = 0\n",
      "\t -fnd sensorValue of 10.10 of sensor/Type SDS011/P2 | LOCid = 1939 | sensorID 3847 | PMid diff = 0\n",
      "- checking sensor : {'id': 14, 'name': 'SDS011', 'manufacturer': 'Nova Fitness'} num : 51/35\n",
      "\t -fnd sensorValue of 15.43 of sensor/Type SDS011/P1 | LOCid = 2546 | sensorID 5054 | PMid diff = 0\n",
      "\t -fnd sensorValue of 13.33 of sensor/Type SDS011/P2 | LOCid = 2546 | sensorID 5054 | PMid diff = 0\n",
      "- checking sensor : {'id': 9, 'name': 'DHT22', 'manufacturer': 'various'} num : 52/35\n",
      "\t -fnd sensorValue of 22.10 of sensor/Type DHT22/temperature | LOCid = 2546 | sensorID 5055 | PMid diff = 1\n",
      "\t -fnd sensorValue of 96.60 of sensor/Type DHT22/humidity | LOCid = 2546 | sensorID 5055 | PMid diff = 1\n",
      "- checking sensor : {'id': 14, 'name': 'SDS011', 'manufacturer': 'Nova Fitness'} num : 53/35\n",
      "\t -fnd sensorValue of 11.67 of sensor/Type SDS011/P1 | LOCid = 3525 | sensorID 6969 | PMid diff = 0\n",
      "\t -fnd sensorValue of 7.23 of sensor/Type SDS011/P2 | LOCid = 3525 | sensorID 6969 | PMid diff = 0\n",
      "- checking sensor : {'id': 9, 'name': 'DHT22', 'manufacturer': 'various'} num : 54/35\n",
      "\t -fnd sensorValue of 20.90 of sensor/Type DHT22/temperature | LOCid = 3525 | sensorID 6970 | PMid diff = 1\n",
      "\t -fnd sensorValue of 98.20 of sensor/Type DHT22/humidity | LOCid = 3525 | sensorID 6970 | PMid diff = 1\n",
      "- checking sensor : {'id': 14, 'name': 'SDS011', 'manufacturer': 'Nova Fitness'} num : 55/35\n",
      "\t -fnd sensorValue of 31.67 of sensor/Type SDS011/P1 | LOCid = 2662 | sensorID 5277 | PMid diff = 0\n",
      "\t -fnd sensorValue of 16.70 of sensor/Type SDS011/P2 | LOCid = 2662 | sensorID 5277 | PMid diff = 0\n",
      "- checking sensor : {'id': 9, 'name': 'DHT22', 'manufacturer': 'various'} num : 56/35\n",
      "\t -fnd sensorValue of 38.30 of sensor/Type DHT22/temperature | LOCid = 2662 | sensorID 5278 | PMid diff = 1\n",
      "\t -fnd sensorValue of 69.60 of sensor/Type DHT22/humidity | LOCid = 2662 | sensorID 5278 | PMid diff = 1\n",
      "- checking sensor : {'id': 14, 'name': 'SDS011', 'manufacturer': 'Nova Fitness'} num : 57/35\n",
      "\t -fnd sensorValue of 7.37 of sensor/Type SDS011/P1 | LOCid = 6590 | sensorID 13046 | PMid diff = 0\n",
      "\t -fnd sensorValue of 4.00 of sensor/Type SDS011/P2 | LOCid = 6590 | sensorID 13046 | PMid diff = 0\n",
      "- checking sensor : {'id': 17, 'name': 'BME280', 'manufacturer': 'Bosch'} num : 58/35\n",
      "\t -fnd sensorValue of 25.94 of sensor/Type BME280/temperature | LOCid = 6590 | sensorID 13047 | PMid diff = 1\n",
      "\t -fnd sensorValue of 58.97 of sensor/Type BME280/humidity | LOCid = 6590 | sensorID 13047 | PMid diff = 1\n",
      "\t -fnd sensorValue of 100660.77 of sensor/Type BME280/pressure | LOCid = 6590 | sensorID 13047 | PMid diff = 1\n",
      "\t -fnd sensorValue of 100808.01 of sensor/Type BME280/pressure_at_sealevel | LOCid = 6590 | sensorID 13047 | PMid diff = 1\n",
      "- checking sensor : {'id': 14, 'name': 'SDS011', 'manufacturer': 'Nova Fitness'} num : 59/35\n",
      "\t -fnd sensorValue of 16.33 of sensor/Type SDS011/P1 | LOCid = 2388 | sensorID 4748 | PMid diff = 0\n",
      "\t -fnd sensorValue of 6.10 of sensor/Type SDS011/P2 | LOCid = 2388 | sensorID 4748 | PMid diff = 0\n",
      "- checking sensor : {'id': 9, 'name': 'DHT22', 'manufacturer': 'various'} num : 60/35\n",
      "\t -fnd sensorValue of 18.90 of sensor/Type DHT22/temperature | LOCid = 2388 | sensorID 4749 | PMid diff = 1\n",
      "\t -fnd sensorValue of 91.10 of sensor/Type DHT22/humidity | LOCid = 2388 | sensorID 4749 | PMid diff = 1\n",
      "- checking sensor : {'id': 14, 'name': 'SDS011', 'manufacturer': 'Nova Fitness'} num : 61/35\n",
      "\t -fnd sensorValue of 30.90 of sensor/Type SDS011/P1 | LOCid = 1685 | sensorID 3343 | PMid diff = 0\n",
      "\t -fnd sensorValue of 23.30 of sensor/Type SDS011/P2 | LOCid = 1685 | sensorID 3343 | PMid diff = 0\n",
      "- checking sensor : {'id': 9, 'name': 'DHT22', 'manufacturer': 'various'} num : 62/35\n",
      "\t -fnd sensorValue of 20.60 of sensor/Type DHT22/temperature | LOCid = 1685 | sensorID 3344 | PMid diff = 1\n",
      "\t -fnd sensorValue of 99.90 of sensor/Type DHT22/humidity | LOCid = 1685 | sensorID 3344 | PMid diff = 1\n",
      "- checking sensor : {'id': 14, 'name': 'SDS011', 'manufacturer': 'Nova Fitness'} num : 63/35\n",
      "\t -fnd sensorValue of 5.57 of sensor/Type SDS011/P1 | LOCid = 4299 | sensorID 8522 | PMid diff = 0\n",
      "\t -fnd sensorValue of 5.17 of sensor/Type SDS011/P2 | LOCid = 4299 | sensorID 8522 | PMid diff = 0\n",
      "- checking sensor : {'id': 17, 'name': 'BME280', 'manufacturer': 'Bosch'} num : 64/35\n",
      "\t -fnd sensorValue of 23.15 of sensor/Type BME280/temperature | LOCid = 4299 | sensorID 8523 | PMid diff = 1\n",
      "\t -fnd sensorValue of 71.10 of sensor/Type BME280/humidity | LOCid = 4299 | sensorID 8523 | PMid diff = 1\n",
      "\t -fnd sensorValue of 98932.81 of sensor/Type BME280/pressure | LOCid = 4299 | sensorID 8523 | PMid diff = 1\n",
      "\t -fnd sensorValue of 100890.58 of sensor/Type BME280/pressure_at_sealevel | LOCid = 4299 | sensorID 8523 | PMid diff = 1\n",
      "- checking sensor : {'id': 14, 'name': 'SDS011', 'manufacturer': 'Nova Fitness'} num : 65/35\n",
      "\t -fnd sensorValue of 3.37 of sensor/Type SDS011/P1 | LOCid = 2728 | sensorID 5410 | PMid diff = 0\n",
      "\t -fnd sensorValue of 3.00 of sensor/Type SDS011/P2 | LOCid = 2728 | sensorID 5410 | PMid diff = 0\n",
      "- checking sensor : {'id': 14, 'name': 'SDS011', 'manufacturer': 'Nova Fitness'} num : 66/35\n",
      "\t -fnd sensorValue of 7.03 of sensor/Type SDS011/P1 | LOCid = 3527 | sensorID 6973 | PMid diff = 0\n",
      "\t -fnd sensorValue of 5.60 of sensor/Type SDS011/P2 | LOCid = 3527 | sensorID 6973 | PMid diff = 0\n",
      "- checking sensor : {'id': 9, 'name': 'DHT22', 'manufacturer': 'various'} num : 67/35\n",
      "\t -fnd sensorValue of 21.70 of sensor/Type DHT22/temperature | LOCid = 3527 | sensorID 6974 | PMid diff = 1\n",
      "\t -fnd sensorValue of 99.90 of sensor/Type DHT22/humidity | LOCid = 3527 | sensorID 6974 | PMid diff = 1\n",
      "- checking sensor : {'id': 14, 'name': 'SDS011', 'manufacturer': 'Nova Fitness'} num : 68/35\n",
      "\t -fnd sensorValue of 11.87 of sensor/Type SDS011/P1 | LOCid = 1288 | sensorID 2556 | PMid diff = 0\n",
      "\t -fnd sensorValue of 10.70 of sensor/Type SDS011/P2 | LOCid = 1288 | sensorID 2556 | PMid diff = 0\n",
      "- checking sensor : {'id': 9, 'name': 'DHT22', 'manufacturer': 'various'} num : 69/35\n",
      "\t -fnd sensorValue of 19.70 of sensor/Type DHT22/temperature | LOCid = 1288 | sensorID 2557 | PMid diff = 1\n",
      "\t -fnd sensorValue of 99.90 of sensor/Type DHT22/humidity | LOCid = 1288 | sensorID 2557 | PMid diff = 1\n",
      "- checking sensor : {'id': 14, 'name': 'SDS011', 'manufacturer': 'Nova Fitness'} num : 70/35\n",
      "\t -fnd sensorValue of 9.80 of sensor/Type SDS011/P1 | LOCid = 4206 | sensorID 8337 | PMid diff = 0\n",
      "\t -fnd sensorValue of 8.07 of sensor/Type SDS011/P2 | LOCid = 4206 | sensorID 8337 | PMid diff = 0\n",
      "- checking sensor : {'id': 9, 'name': 'DHT22', 'manufacturer': 'various'} num : 71/35\n",
      "\t -fnd sensorValue of 21.00 of sensor/Type DHT22/temperature | LOCid = 4206 | sensorID 8338 | PMid diff = 1\n",
      "\t -fnd sensorValue of 99.90 of sensor/Type DHT22/humidity | LOCid = 4206 | sensorID 8338 | PMid diff = 1\n",
      "- checking sensor : {'id': 14, 'name': 'SDS011', 'manufacturer': 'Nova Fitness'} num : 72/35\n",
      "\t -fnd sensorValue of 10.67 of sensor/Type SDS011/P1 | LOCid = 533 | sensorID 1088 | PMid diff = 0\n",
      "\t -fnd sensorValue of 9.00 of sensor/Type SDS011/P2 | LOCid = 533 | sensorID 1088 | PMid diff = 0\n",
      "- checking sensor : {'id': 9, 'name': 'DHT22', 'manufacturer': 'various'} num : 73/35\n",
      "\t -fnd sensorValue of 20.60 of sensor/Type DHT22/temperature | LOCid = 533 | sensorID 1089 | PMid diff = 1\n",
      "\t -fnd sensorValue of 88.10 of sensor/Type DHT22/humidity | LOCid = 533 | sensorID 1089 | PMid diff = 1\n",
      "- checking sensor : {'id': 14, 'name': 'SDS011', 'manufacturer': 'Nova Fitness'} num : 74/35\n",
      "\t -fnd sensorValue of 10.30 of sensor/Type SDS011/P1 | LOCid = 2289 | sensorID 4553 | PMid diff = 0\n",
      "\t -fnd sensorValue of 6.00 of sensor/Type SDS011/P2 | LOCid = 2289 | sensorID 4553 | PMid diff = 0\n",
      "- checking sensor : {'id': 14, 'name': 'SDS011', 'manufacturer': 'Nova Fitness'} num : 75/35\n",
      "\t -fnd sensorValue of 5.60 of sensor/Type SDS011/P1 | LOCid = 1667 | sensorID 3309 | PMid diff = 0\n",
      "\t -fnd sensorValue of 5.10 of sensor/Type SDS011/P2 | LOCid = 1667 | sensorID 3309 | PMid diff = 0\n",
      "- checking sensor : {'id': 9, 'name': 'DHT22', 'manufacturer': 'various'} num : 76/35\n",
      "\t -fnd sensorValue of 23.40 of sensor/Type DHT22/temperature | LOCid = 1667 | sensorID 3310 | PMid diff = 1\n",
      "\t -fnd sensorValue of 49.30 of sensor/Type DHT22/humidity | LOCid = 1667 | sensorID 3310 | PMid diff = 1\n",
      "- checking sensor : {'id': 14, 'name': 'SDS011', 'manufacturer': 'Nova Fitness'} num : 77/35\n",
      "\t -fnd sensorValue of 1.60 of sensor/Type SDS011/P1 | LOCid = 5559 | sensorID 11012 | PMid diff = 0\n",
      "\t -fnd sensorValue of 1.50 of sensor/Type SDS011/P2 | LOCid = 5559 | sensorID 11012 | PMid diff = 0\n",
      "- checking sensor : {'id': 9, 'name': 'DHT22', 'manufacturer': 'various'} num : 78/35\n",
      "\t -fnd sensorValue of 21.70 of sensor/Type DHT22/temperature | LOCid = 5559 | sensorID 11013 | PMid diff = 1\n",
      "\t -fnd sensorValue of 78.40 of sensor/Type DHT22/humidity | LOCid = 5559 | sensorID 11013 | PMid diff = 1\n",
      "- checking sensor : {'id': 14, 'name': 'SDS011', 'manufacturer': 'Nova Fitness'} num : 79/35\n",
      "\t -fnd sensorValue of 9.35 of sensor/Type SDS011/P1 | LOCid = 5335 | sensorID 10573 | PMid diff = 0\n",
      "\t -fnd sensorValue of 8.03 of sensor/Type SDS011/P2 | LOCid = 5335 | sensorID 10573 | PMid diff = 0\n",
      "- checking sensor : {'id': 14, 'name': 'SDS011', 'manufacturer': 'Nova Fitness'} num : 80/35\n",
      "\t -fnd sensorValue of 7.20 of sensor/Type SDS011/P1 | LOCid = 2734 | sensorID 5422 | PMid diff = 0\n",
      "\t -fnd sensorValue of 5.07 of sensor/Type SDS011/P2 | LOCid = 2734 | sensorID 5422 | PMid diff = 0\n",
      "- checking sensor : {'id': 14, 'name': 'SDS011', 'manufacturer': 'Nova Fitness'} num : 81/35\n",
      "\t -fnd sensorValue of 6.70 of sensor/Type SDS011/P1 | LOCid = 1210 | sensorID 2398 | PMid diff = 0\n",
      "\t -fnd sensorValue of 3.53 of sensor/Type SDS011/P2 | LOCid = 1210 | sensorID 2398 | PMid diff = 0\n",
      "- checking sensor : {'id': 9, 'name': 'DHT22', 'manufacturer': 'various'} num : 82/35\n",
      "\t -fnd sensorValue of 20.30 of sensor/Type DHT22/temperature | LOCid = 1210 | sensorID 2399 | PMid diff = 1\n",
      "\t -fnd sensorValue of 99.90 of sensor/Type DHT22/humidity | LOCid = 1210 | sensorID 2399 | PMid diff = 1\n"
     ]
    }
   ],
   "source": [
    "humidity_values = [0]  \n",
    "humidity_values__dht22 = [0]\n",
    "humidity_values__bme280 = [0]\n",
    "\n",
    "# to keep track of PM sensor values \n",
    "last_PM_sensor__sensor_ID = 0 \n",
    "\n",
    "# fetch values of humidity sensor readings + give output \n",
    "counter = 0 \n",
    "for sensor in freiburg_sensors__all_entries:\n",
    "    print(\"- checking sensor : \"+str(  sensor['sensor']['sensor_type'] )+\" num : \"+str(counter)+\"/\"+str( len(freiburg_sensors_non_particle_matter_entries) ) )\n",
    "    for sensor_value in sensor['sensordatavalues']:\n",
    "        \"\"\"\n",
    "        if sensor['sensor']['sensor_type']['name'] == 'SDS011':\n",
    "                print(\"- found P1 sensor with value of \"+str(sensor_value['value'])+\" of sensor type \"+sensor['sensor']['sensor_type']['name']+\" LOCATION id = \"+str( sensor['location']['id'])+\" ++ sensor id \"+str( sensor['id'] ) )\n",
    "        if sensor_value['value_type'] == 'humidity':\n",
    "        \"\"\"\n",
    "        # if humidity sensor, then store the sensor id num - for comparison later\n",
    "        if sensor['sensor']['sensor_type']['name'] == 'SDS011':\n",
    "            last_PM_sensor__sensor_ID = sensor['sensor']['id']\n",
    "            \n",
    "        print(\"\\t -fnd sensorValue of \"+str(sensor_value['value'])+\" of sensor/Type \"+str( sensor['sensor']['sensor_type']['name']  )+\"/\"+sensor_value['value_type']+\" | LOCid = \"+str( sensor['location']['id'])+\" | sensorID \"+str( sensor['sensor']['id'] )+\" | PMid diff = \"+str( sensor['sensor']['id']-last_PM_sensor__sensor_ID ) )\n",
    "        \n",
    "        humidity_values.append( float( sensor_value['value'] ) )\n",
    "        if sensor_value['value_type'] == \"humidity\":\n",
    "            if sensor['sensor']['sensor_type']['name'] == \"DHT22\":\n",
    "                        humidity_values__dht22.append( float( sensor_value['value'] ) )\n",
    "            if sensor['sensor']['sensor_type']['name'] == \"BME280\":\n",
    "                        humidity_values__bme280.append( float( sensor_value['value'] ) )\n",
    "    counter = counter+1 \n"
   ]
  },
  {
   "cell_type": "code",
   "execution_count": 30,
   "metadata": {
    "collapsed": true
   },
   "outputs": [],
   "source": [
    "%matplotlib inline"
   ]
  },
  {
   "cell_type": "code",
   "execution_count": 31,
   "metadata": {},
   "outputs": [
    {
     "data": {
      "text/plain": [
       "[<matplotlib.lines.Line2D at 0x1133b5a20>]"
      ]
     },
     "execution_count": 31,
     "metadata": {},
     "output_type": "execute_result"
    },
    {
     "data": {
      "image/png": "[encoded data removed]",
      "text/plain": [
       "<matplotlib.figure.Figure at 0x1133277b8>"
      ]
     },
     "metadata": {},
     "output_type": "display_data"
    }
   ],
   "source": [
    "plt.plot( range( len( humidity_values) ), humidity_values )"
   ]
  },
  {
   "cell_type": "code",
   "execution_count": 32,
   "metadata": {},
   "outputs": [
    {
     "data": {
      "image/png": "[encoded data removed]",
      "text/plain": [
       "<matplotlib.figure.Figure at 0x113424400>"
      ]
     },
     "metadata": {},
     "output_type": "display_data"
    }
   ],
   "source": [
    "kwargs = dict(histtype='stepfilled', alpha=0.3, normed=True, bins=40)\n",
    "\n",
    "# plt.hist( humidity_values, **kwargs ) \n",
    "plt.hist( humidity_values__dht22, **kwargs, label='dht22' ) \n",
    "plt.hist( humidity_values__bme280, **kwargs, label='bme280' ) \n",
    "plt.legend();"
   ]
  },
  {
   "cell_type": "code",
   "execution_count": 35,
   "metadata": {},
   "outputs": [
    {
     "data": {
      "image/png": "[encoded data removed]",
      "text/plain": [
       "<matplotlib.figure.Figure at 0x113666630>"
      ]
     },
     "metadata": {},
     "output_type": "display_data"
    }
   ],
   "source": [
    "# trying to do a ('simple') scatter plot\n",
    "\n",
    "kwargs = dict(histtype='stepfilled', alpha=0.3, normed=True, bins=40)\n",
    "\n",
    "plt.plot( np.ones( len( humidity_values__dht22) )*1, humidity_values__dht22, 'o', alpha=0.3, label='dht22' )\n",
    "plt.plot( np.ones( len( humidity_values__bme280) )*1.1, humidity_values__bme280, 'o', alpha=0.3, label='bme280' )\n",
    "plt.plot( np.ones( len( geographic_search_humidity_sensor__dht22__sensor_value) )*2, geographic_search_humidity_sensor__dht22__sensor_value, 'o', alpha=0.3, label='dht22_2' )\n",
    "plt.plot( np.ones( len( geographic_search_humidity_sensor__bme280__sensor_value) )*2.1, geographic_search_humidity_sensor__bme280__sensor_value, 'o', alpha=0.3, label='bme280_2' )\n",
    "plt.legend();"
   ]
  },
  {
   "cell_type": "code",
   "execution_count": null,
   "metadata": {
    "collapsed": true
   },
   "outputs": [],
   "source": []
  }
 ],
 "metadata": {
  "kernelspec": {
   "display_name": "Python 3",
   "language": "python",
   "name": "python3"
  },
  "language_info": {
   "codemirror_mode": {
    "name": "ipython",
    "version": 3
   },
   "file_extension": ".py",
   "mimetype": "text/x-python",
   "name": "python",
   "nbconvert_exporter": "python",
   "pygments_lexer": "ipython3",
   "version": "3.6.2"
  }
 },
 "nbformat": 4,
 "nbformat_minor": 2
}
