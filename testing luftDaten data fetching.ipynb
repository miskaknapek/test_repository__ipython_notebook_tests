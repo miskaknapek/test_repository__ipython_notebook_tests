{
 "cells": [
  {
   "cell_type": "code",
   "execution_count": null,
   "metadata": {
    "collapsed": true
   },
   "outputs": [],
   "source": [
    "#### checking shape of data from the luftDaten sensor API "
   ]
  },
  {
   "cell_type": "code",
   "execution_count": 1,
   "metadata": {
    "collapsed": true
   },
   "outputs": [],
   "source": [
    "# prerequisites"
   ]
  },
  {
   "cell_type": "code",
   "execution_count": 2,
   "metadata": {
    "collapsed": true
   },
   "outputs": [],
   "source": [
    "#prerequisites \n",
    "import json\n",
    "import requests\n",
    "\n",
    "import pandas as pd\n",
    "import numpy as np\n",
    "\n",
    "import matplotlib as mpl\n",
    "import matplotlib.pyplot as plt\n"
   ]
  },
  {
   "cell_type": "code",
   "execution_count": 4,
   "metadata": {},
   "outputs": [
    {
     "data": {
      "text/plain": [
       "'\\n    current_sensor_json = json.loads( requests.get( \"http://api.luftdaten.info/v1/sensor/\"+str(loc_id)+\"/\" ).text )\\n'"
      ]
     },
     "execution_count": 4,
     "metadata": {},
     "output_type": "execute_result"
    }
   ],
   "source": [
    "# api form\n",
    "\"\"\"\n",
    "    current_sensor_json = json.loads( requests.get( \"http://api.luftdaten.info/v1/sensor/\"+str(loc_id)+\"/\" ).text )\n",
    "\"\"\""
   ]
  },
  {
   "cell_type": "code",
   "execution_count": 6,
   "metadata": {},
   "outputs": [],
   "source": [
    "sensor_id = 1225\n",
    "# fetch \n",
    "current_sensor_json = json.loads( requests.get( \"http://api.luftdaten.info/v1/sensor/\"+str(sensor_id)+\"/\" ).text )"
   ]
  },
  {
   "cell_type": "code",
   "execution_count": 7,
   "metadata": {},
   "outputs": [
    {
     "data": {
      "text/plain": [
       "[{'id': 1400959327,\n",
       "  'location': {'altitude': '269.8',\n",
       "   'country': 'DE',\n",
       "   'id': 602,\n",
       "   'latitude': '48.0000',\n",
       "   'longitude': '7.8400'},\n",
       "  'sampling_rate': None,\n",
       "  'sensor': {'id': 1225,\n",
       "   'pin': '7',\n",
       "   'sensor_type': {'id': 9, 'manufacturer': 'various', 'name': 'DHT22'}},\n",
       "  'sensordatavalues': [{'id': 3002599500,\n",
       "    'value': '17.80',\n",
       "    'value_type': 'temperature'},\n",
       "   {'id': 3002599501, 'value': '99.90', 'value_type': 'humidity'}],\n",
       "  'timestamp': '2018-06-16 03:46:05'},\n",
       " {'id': 1400968850,\n",
       "  'location': {'altitude': '269.8',\n",
       "   'country': 'DE',\n",
       "   'id': 602,\n",
       "   'latitude': '48.0000',\n",
       "   'longitude': '7.8400'},\n",
       "  'sampling_rate': None,\n",
       "  'sensor': {'id': 1225,\n",
       "   'pin': '7',\n",
       "   'sensor_type': {'id': 9, 'manufacturer': 'various', 'name': 'DHT22'}},\n",
       "  'sensordatavalues': [{'id': 3002619578,\n",
       "    'value': '17.90',\n",
       "    'value_type': 'temperature'},\n",
       "   {'id': 3002619579, 'value': '99.90', 'value_type': 'humidity'}],\n",
       "  'timestamp': '2018-06-16 03:48:33'},\n",
       " {'id': 1400978391,\n",
       "  'location': {'altitude': '269.8',\n",
       "   'country': 'DE',\n",
       "   'id': 602,\n",
       "   'latitude': '48.0000',\n",
       "   'longitude': '7.8400'},\n",
       "  'sampling_rate': None,\n",
       "  'sensor': {'id': 1225,\n",
       "   'pin': '7',\n",
       "   'sensor_type': {'id': 9, 'manufacturer': 'various', 'name': 'DHT22'}},\n",
       "  'sensordatavalues': [{'id': 3002639689,\n",
       "    'value': '18.00',\n",
       "    'value_type': 'temperature'},\n",
       "   {'id': 3002639690, 'value': '99.90', 'value_type': 'humidity'}],\n",
       "  'timestamp': '2018-06-16 03:51:00'}]"
      ]
     },
     "execution_count": 7,
     "metadata": {},
     "output_type": "execute_result"
    }
   ],
   "source": [
    "# print\n",
    "current_sensor_json"
   ]
  },
  {
   "cell_type": "code",
   "execution_count": null,
   "metadata": {
    "collapsed": true
   },
   "outputs": [],
   "source": []
  }
 ],
 "metadata": {
  "kernelspec": {
   "display_name": "Python 3",
   "language": "python",
   "name": "python3"
  },
  "language_info": {
   "codemirror_mode": {
    "name": "ipython",
    "version": 3
   },
   "file_extension": ".py",
   "mimetype": "text/x-python",
   "name": "python",
   "nbconvert_exporter": "python",
   "pygments_lexer": "ipython3",
   "version": "3.6.2"
  }
 },
 "nbformat": 4,
 "nbformat_minor": 2
}
