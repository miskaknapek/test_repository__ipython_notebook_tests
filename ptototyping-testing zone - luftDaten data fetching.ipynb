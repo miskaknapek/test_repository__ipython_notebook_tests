{
 "cells": [
  {
   "cell_type": "code",
   "execution_count": 1,
   "metadata": {
    "collapsed": true
   },
   "outputs": [],
   "source": [
    "#### checking shape of data from the luftDaten sensor API "
   ]
  },
  {
   "cell_type": "code",
   "execution_count": 2,
   "metadata": {
    "collapsed": true
   },
   "outputs": [],
   "source": [
    "# prerequisites"
   ]
  },
  {
   "cell_type": "code",
   "execution_count": 3,
   "metadata": {
    "collapsed": true
   },
   "outputs": [],
   "source": [
    "#prerequisites \n",
    "\n",
    "# loads json \n",
    "import json\n",
    "\n",
    "# one xml/json reading library \n",
    "import xmljson\n",
    "# related to above\n",
    "from xmljson import BadgerFish\n",
    "from collections import OrderedDict\n",
    "\n",
    "# another xml reading library\n",
    "import xml.etree.ElementTree as ET\n",
    "\n",
    "# another xml - dictionary reader \n",
    "import untangle\n",
    "\n",
    "# and another\n",
    "import xmltodict\n",
    "\n",
    "\n",
    "import requests\n",
    "\n",
    "import pandas as pd\n",
    "import numpy as np\n",
    "\n",
    "import matplotlib as mpl\n",
    "import matplotlib.pyplot as plt\n"
   ]
  },
  {
   "cell_type": "code",
   "execution_count": 4,
   "metadata": {},
   "outputs": [
    {
     "data": {
      "text/plain": [
       "'\\n    current_sensor_json = json.loads( requests.get( \"http://api.luftdaten.info/v1/sensor/\"+str(loc_id)+\"/\" ).text )\\n'"
      ]
     },
     "execution_count": 4,
     "metadata": {},
     "output_type": "execute_result"
    }
   ],
   "source": [
    "# api form\n",
    "\"\"\"\n",
    "    current_sensor_json = json.loads( requests.get( \"http://api.luftdaten.info/v1/sensor/\"+str(loc_id)+\"/\" ).text )\n",
    "\"\"\""
   ]
  },
  {
   "cell_type": "code",
   "execution_count": 5,
   "metadata": {
    "collapsed": true
   },
   "outputs": [],
   "source": [
    "sensor_id = 1225\n",
    "# fetch \n",
    "current_sensor_json = json.loads( requests.get( \"http://api.luftdaten.info/v1/sensor/\"+str(sensor_id)+\"/\" ).text )"
   ]
  },
  {
   "cell_type": "code",
   "execution_count": 6,
   "metadata": {
    "scrolled": true
   },
   "outputs": [
    {
     "data": {
      "text/plain": [
       "[{'id': 1402292402,\n",
       "  'location': {'altitude': '269.8',\n",
       "   'country': 'DE',\n",
       "   'id': 602,\n",
       "   'latitude': '48.0000',\n",
       "   'longitude': '7.8400'},\n",
       "  'sampling_rate': None,\n",
       "  'sensor': {'id': 1225,\n",
       "   'pin': '7',\n",
       "   'sensor_type': {'id': 9, 'manufacturer': 'various', 'name': 'DHT22'}},\n",
       "  'sensordatavalues': [{'id': 3005410278,\n",
       "    'value': '31.20',\n",
       "    'value_type': 'temperature'},\n",
       "   {'id': 3005410279, 'value': '95.10', 'value_type': 'humidity'}],\n",
       "  'timestamp': '2018-06-16 09:25:53'},\n",
       " {'id': 1402302041,\n",
       "  'location': {'altitude': '269.8',\n",
       "   'country': 'DE',\n",
       "   'id': 602,\n",
       "   'latitude': '48.0000',\n",
       "   'longitude': '7.8400'},\n",
       "  'sampling_rate': None,\n",
       "  'sensor': {'id': 1225,\n",
       "   'pin': '7',\n",
       "   'sensor_type': {'id': 9, 'manufacturer': 'various', 'name': 'DHT22'}},\n",
       "  'sensordatavalues': [{'id': 3005430601,\n",
       "    'value': '31.40',\n",
       "    'value_type': 'temperature'},\n",
       "   {'id': 3005430603, 'value': '94.20', 'value_type': 'humidity'}],\n",
       "  'timestamp': '2018-06-16 09:28:21'}]"
      ]
     },
     "execution_count": 6,
     "metadata": {},
     "output_type": "execute_result"
    }
   ],
   "source": [
    "# print\n",
    "current_sensor_json"
   ]
  },
  {
   "cell_type": "markdown",
   "metadata": {
    "collapsed": true
   },
   "source": [
    "### Testing Norwegian met office API … "
   ]
  },
  {
   "cell_type": "code",
   "execution_count": 1,
   "metadata": {
    "collapsed": true
   },
   "outputs": [],
   "source": [
    "# from the Norwegian Met Office ( met.no )\n",
    "# API overview page : https://api.met.no/"
   ]
  },
  {
   "cell_type": "code",
   "execution_count": 7,
   "metadata": {
    "collapsed": true
   },
   "outputs": [],
   "source": [
    "# freiburg_data_via_MET_NO_xml = requests.get( \"https://api.met.no/weatherapi/locationforecast/1.9/?lat=47.99&lon=7.4\" ).text  "
   ]
  },
  {
   "cell_type": "code",
   "execution_count": 8,
   "metadata": {
    "collapsed": true
   },
   "outputs": [],
   "source": [
    "freiburg_data_via_MET_NO_as_txt  = requests.get( \"https://api.met.no/weatherapi/locationforecast/1.9/?lat=47.99&lon=7.4\" ).text"
   ]
  },
  {
   "cell_type": "code",
   "execution_count": 11,
   "metadata": {
    "collapsed": true
   },
   "outputs": [],
   "source": [
    "#### trying a different xml library… "
   ]
  },
  {
   "cell_type": "code",
   "execution_count": 14,
   "metadata": {
    "collapsed": true
   },
   "outputs": [],
   "source": [
    "freiburg_data_via_MET_NO__xml_via_xmltodict = xmltodict.parse( freiburg_data_via_MET_NO_as_txt )"
   ]
  },
  {
   "cell_type": "code",
   "execution_count": 39,
   "metadata": {},
   "outputs": [
    {
     "data": {
      "text/plain": [
       "'64.7'"
      ]
     },
     "execution_count": 39,
     "metadata": {},
     "output_type": "execute_result"
    }
   ],
   "source": [
    "freiburg_data_via_MET_NO__xml_via_xmltodict['weatherdata']['product']['time'][0]['location']['humidity']['@value']\n"
   ]
  },
  {
   "cell_type": "code",
   "execution_count": null,
   "metadata": {
    "collapsed": true
   },
   "outputs": [],
   "source": []
  }
 ],
 "metadata": {
  "kernelspec": {
   "display_name": "Python 3",
   "language": "python",
   "name": "python3"
  },
  "language_info": {
   "codemirror_mode": {
    "name": "ipython",
    "version": 3
   },
   "file_extension": ".py",
   "mimetype": "text/x-python",
   "name": "python",
   "nbconvert_exporter": "python",
   "pygments_lexer": "ipython3",
   "version": "3.6.2"
  }
 },
 "nbformat": 4,
 "nbformat_minor": 2
}
